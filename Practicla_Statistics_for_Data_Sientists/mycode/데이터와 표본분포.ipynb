{
 "cells": [
  {
   "cell_type": "markdown",
   "id": "7b0f2dea",
   "metadata": {},
   "source": [
    "### 세팅"
   ]
  },
  {
   "cell_type": "code",
   "execution_count": 1,
   "id": "3df91bb2",
   "metadata": {},
   "outputs": [],
   "source": [
    "%matplotlib inline\n",
    "\n",
    "from pathlib import Path\n",
    "import pandas as pd\n",
    "import numpy as np\n",
    "from scipy import stats\n",
    "from sklearn.utils import resample\n",
    "\n",
    "import seaborn as sns\n",
    "import matplotlib.pylab as plt"
   ]
  },
  {
   "cell_type": "code",
   "execution_count": 2,
   "id": "4a2ca7ea",
   "metadata": {},
   "outputs": [],
   "source": [
    "try:\n",
    "    import common\n",
    "    DATA = common.dataDirectory()\n",
    "except ImportError:\n",
    "    DATA = Path().resolve() / 'data'"
   ]
  },
  {
   "cell_type": "code",
   "execution_count": 3,
   "id": "072fedb6",
   "metadata": {},
   "outputs": [],
   "source": [
    "LOANS_INCOME_CSV = DATA / 'loans_income.csv'\n",
    "SP500_DATA_CSV = DATA / 'sp500_data.csv.gz'"
   ]
  },
  {
   "cell_type": "markdown",
   "id": "3da6854c",
   "metadata": {},
   "source": [
    "### 임의표본 추출과 표본편향\n",
    "- 임의표본추출(랜덤표본추출) : 무작위로 표본 추출\n",
    "- 층화표본추출 : 모집단을 층으로 나눈 뒤, 각 층에서 무작위로 추출\n",
    "- 계층(stratum) : 공통된 특징을 가진 모집단의 동종 하위 그룹\n",
    "- 단순임의표본 : 모집단 층화 없이 임의표본 추출로 얻은 표본\n",
    "- 편향(bias) : 계통상의 오류 (통계적 편향은 측정 과정 or 표본추출 과정에서 발생하는 계통적인systematic 오차를 의미한다.)\n",
    "- 표본편향 (sample bias) : 모집단을 잘못 대표하는 표본\n",
    "- 비임의(nonrandom) : 아무리 랜덤표본이라 해도, 어떤 표본도 모집단을 정확하게 대표할 수는 없다."
   ]
  },
  {
   "cell_type": "code",
   "execution_count": null,
   "id": "f8f167dd",
   "metadata": {},
   "outputs": [],
   "source": []
  }
 ],
 "metadata": {
  "kernelspec": {
   "display_name": "Python 3",
   "language": "python",
   "name": "python3"
  },
  "language_info": {
   "codemirror_mode": {
    "name": "ipython",
    "version": 3
   },
   "file_extension": ".py",
   "mimetype": "text/x-python",
   "name": "python",
   "nbconvert_exporter": "python",
   "pygments_lexer": "ipython3",
   "version": "3.8.8"
  }
 },
 "nbformat": 4,
 "nbformat_minor": 5
}
