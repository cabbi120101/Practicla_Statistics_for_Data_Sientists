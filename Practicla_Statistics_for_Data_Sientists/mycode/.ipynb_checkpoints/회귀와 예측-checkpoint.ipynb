{
 "cells": [
  {
   "cell_type": "markdown",
   "id": "a91a7b3f",
   "metadata": {},
   "source": [
    "#### 세팅"
   ]
  },
  {
   "cell_type": "code",
   "execution_count": 1,
   "id": "e239702d",
   "metadata": {},
   "outputs": [],
   "source": [
    "%matplotlib inline\n",
    "import matplotlib.pyplot as plt"
   ]
  },
  {
   "cell_type": "code",
   "execution_count": 2,
   "id": "71c0ff21",
   "metadata": {},
   "outputs": [
    {
     "name": "stdout",
     "output_type": "stream",
     "text": [
      "no display found. Using non-interactive Agg backend\n"
     ]
    }
   ],
   "source": [
    "from pathlib import Path\n",
    "\n",
    "import pandas as pd\n",
    "import numpy as np\n",
    "from sklearn.metrics import r2_score, mean_squared_error\n",
    "from sklearn.linear_model import LinearRegression\n",
    "\n",
    "import statsmodels.api as sm\n",
    "import statsmodels.formula.api as smf\n",
    "from statsmodels.stats.outliers_influence import OLSInfluence\n",
    "\n",
    "from pygam import LinearGAM, s, l\n",
    "from pygam.datasets import wage\n",
    "\n",
    "\n",
    "import seaborn as sns\n",
    "import matplotlib.pyplot as plt\n",
    "\n",
    "from dmba import stepwise_selection\n",
    "from dmba import AIC_score"
   ]
  },
  {
   "cell_type": "code",
   "execution_count": 3,
   "id": "3d811422",
   "metadata": {},
   "outputs": [],
   "source": [
    "try:\n",
    "    import common\n",
    "    DATA = common.dataDirectory()\n",
    "except ImportError:\n",
    "    DATA = Path().resolve() / 'data'"
   ]
  },
  {
   "cell_type": "code",
   "execution_count": 4,
   "id": "0193a6a2",
   "metadata": {},
   "outputs": [],
   "source": [
    "LUNG_CSV = DATA / 'LungDisease.csv'\n",
    "HOUSE_CSV = DATA / 'house_sales.csv'"
   ]
  },
  {
   "cell_type": "markdown",
   "id": "caa0911c",
   "metadata": {},
   "source": [
    "### 단순선형회귀\n",
    "- 응답변수(반응변수, 종속변수,Y, response variable) : 예측하고자 하는 변수\n",
    "- 독립변수(예측변수, X, 피처, independent variable) : 응답치를 예측하기 위해 사용되는 변수\n",
    "- 레코드(행,사건,예시,record) : 한 특정 경우에 대한 입력과 출력을 담고 있는 벡터\n",
    "- 절편(intercept) : 회귀직선의 절편, 즉, X=0일 때 예측값\n",
    "- 회귀계수(기울기,모수 추정값, 가중치,regression coefficient) : 회귀직선의 기울기\n",
    "- 적합값(예측값, fitted value) : 회귀선으로부터 얻은 추정치\n",
    "- 잔차 (오차, residual) : 관측값과 적합값의 차이\n",
    "- 최소제곱(보통최소제곱,OLS,least square) : 잔차의 제곱합을 최소화하여 회귀를 피팅하는 방법"
   ]
  },
  {
   "cell_type": "code",
   "execution_count": 5,
   "id": "7b06c0b8",
   "metadata": {},
   "outputs": [
    {
     "name": "stderr",
     "output_type": "stream",
     "text": [
      "<ipython-input-5-563960fd6169>:6: UserWarning: Matplotlib is currently using agg, which is a non-GUI backend, so cannot show the figure.\n",
      "  plt.show()\n"
     ]
    }
   ],
   "source": [
    "lung = pd.read_csv(LUNG_CSV)\n",
    "\n",
    "lung.plot.scatter(x='Exposure', y='PEFR')\n",
    "\n",
    "plt.tight_layout()\n",
    "plt.show()"
   ]
  },
  {
   "cell_type": "code",
   "execution_count": 6,
   "id": "027ef3e6",
   "metadata": {},
   "outputs": [
    {
     "name": "stdout",
     "output_type": "stream",
     "text": [
      "Intercept: 424.583\n",
      "Coefficient Exposure: -4.185\n"
     ]
    }
   ],
   "source": [
    "predictors = ['Exposure']\n",
    "outcome = 'PEFR'\n",
    "\n",
    "model = LinearRegression()\n",
    "model.fit(lung[predictors], lung[outcome])\n",
    "\n",
    "print(f'Intercept: {model.intercept_:.3f}')\n",
    "print(f'Coefficient Exposure: {model.coef_[0]:.3f}')"
   ]
  },
  {
   "cell_type": "code",
   "execution_count": 7,
   "id": "4b9bf020",
   "metadata": {},
   "outputs": [
    {
     "name": "stderr",
     "output_type": "stream",
     "text": [
      "<ipython-input-7-d91ec152ea5a>:17: UserWarning: Matplotlib is currently using agg, which is a non-GUI backend, so cannot show the figure.\n",
      "  plt.show()\n"
     ]
    }
   ],
   "source": [
    "fig, ax = plt.subplots(figsize=(4, 4))\n",
    "ax.set_xlim(0, 23)\n",
    "ax.set_ylim(295, 450)\n",
    "ax.set_xlabel('Exposure')\n",
    "ax.set_ylabel('PEFR')\n",
    "ax.plot((0, 23), model.predict(pd.DataFrame({'Exposure': [0, 23]})))\n",
    "ax.text(0.4, model.intercept_, r'$b_0$', size='larger')\n",
    "\n",
    "x = pd.DataFrame({'Exposure': [7.5,17.5]})\n",
    "y = model.predict(x)\n",
    "ax.plot((7.5, 7.5, 17.5), (y[0], y[1], y[1]), '--')\n",
    "ax.text(5, np.mean(y), r'$\\Delta Y$', size='larger')\n",
    "ax.text(12, y[1] - 10, r'$\\Delta X$', size='larger')\n",
    "ax.text(12, 390, r'$b_1 = \\frac{\\Delta Y}{\\Delta X}$', size='larger')\n",
    "\n",
    "plt.tight_layout()\n",
    "plt.show()"
   ]
  },
  {
   "cell_type": "markdown",
   "id": "65f57c8b",
   "metadata": {},
   "source": [
    "### 적합값과 잔차\n",
    "- 적합값(예측값)\n",
    "- 잔차(예측 오차)"
   ]
  },
  {
   "cell_type": "code",
   "execution_count": 8,
   "id": "6a700337",
   "metadata": {},
   "outputs": [],
   "source": [
    "fitted = model.predict(lung[predictors])\n",
    "residuals = lung[outcome] - fitted"
   ]
  },
  {
   "cell_type": "code",
   "execution_count": 9,
   "id": "fbac9105",
   "metadata": {},
   "outputs": [
    {
     "name": "stderr",
     "output_type": "stream",
     "text": [
      "<ipython-input-9-f6b8b89fcbf1>:8: UserWarning: Matplotlib is currently using agg, which is a non-GUI backend, so cannot show the figure.\n",
      "  plt.show()\n"
     ]
    }
   ],
   "source": [
    "# 회귀선에 대한 잔차\n",
    "ax = lung.plot.scatter(x='Exposure', y='PEFR', figsize=(4, 4))\n",
    "ax.plot(lung.Exposure, fitted)\n",
    "for x, yactual, yfitted in zip(lung.Exposure, lung.PEFR, fitted): \n",
    "    ax.plot((x, x), (yactual, yfitted), '--', color='C1')\n",
    "\n",
    "plt.tight_layout()\n",
    "plt.show()"
   ]
  },
  {
   "cell_type": "markdown",
   "id": "e06526f3",
   "metadata": {},
   "source": [
    "### 최소제곱\n",
    "- 실무에서 회귀선은 잔차들을 제곱한 값들의 합인 잔차제곱합(RSS)을 최소화하는 선이다.\n",
    "- 잔차제곱합을 최소화하는 방법을 최소제곱회귀(또는 보통최소제곱OLS)회귀라고 한다."
   ]
  },
  {
   "cell_type": "markdown",
   "id": "39dc7e7d",
   "metadata": {},
   "source": [
    "### 예측 대 설명\n",
    "- 회귀방정식은 응답변수Y와 예측변수X 간의 관계를 선형함수로 모델링한다.\n",
    "- 회귀모형은 적합값과 잔차, 즉 반응에 대한 예측과 그 예측 오차를 산출한다.\n",
    "- 회귀모형은 일반적으로 최소제곱법을 이용해 피팅한다.\n",
    "- 회귀는 예측과 설명 모두에 사용된다."
   ]
  },
  {
   "cell_type": "markdown",
   "id": "3ef25bb0",
   "metadata": {},
   "source": [
    "### 다중선형회귀\n",
    "- 제곱근평균제곱오차(RMSE) : 회귀 시 평균제곱오차의 제곱근, 회귀모형을 평가하는 데 가장 널리 사용되는 측정 지표다.\n",
    "- 잔차 표준오차(RSE) : 평균제곱오차와 동일하지만 자유도에 따라 보정된 값\n",
    "- R제곱(결정계수) : 0에서 1까지 모델에 의해 설명된 분산의 비율\\\n",
    "- 분산 : 변량이 퍼져있는 정도\n",
    "- t통계량 : 계수의 표준오차로 나눈 예측변수의 계수. 모델에서 변수의 중요도를 비교하는 기준이 된다.\n",
    "- 가중회귀 : 다른 가중치를 가진 레코드들을 회귀하는 방법"
   ]
  },
  {
   "cell_type": "code",
   "execution_count": 10,
   "id": "3f713e06",
   "metadata": {},
   "outputs": [
    {
     "name": "stdout",
     "output_type": "stream",
     "text": [
      "   AdjSalePrice  SqFtTotLiving  SqFtLot  Bathrooms  Bedrooms  BldgGrade\n",
      "1      300805.0           2400     9373       3.00         6          7\n",
      "2     1076162.0           3764    20156       3.75         4         10\n",
      "3      761805.0           2060    26036       1.75         4          8\n",
      "4      442065.0           3200     8618       3.75         5          7\n",
      "5      297065.0           1720     8620       1.75         4          7\n"
     ]
    }
   ],
   "source": [
    "subset = ['AdjSalePrice', 'SqFtTotLiving', 'SqFtLot', 'Bathrooms', \n",
    "          'Bedrooms', 'BldgGrade']\n",
    "\n",
    "house = pd.read_csv(HOUSE_CSV, sep='\\t')\n",
    "print(house[subset].head())"
   ]
  },
  {
   "cell_type": "code",
   "execution_count": 11,
   "id": "25eb8a6f",
   "metadata": {},
   "outputs": [
    {
     "name": "stdout",
     "output_type": "stream",
     "text": [
      "Intercept: -521871.368\n",
      "Coefficients:\n",
      " SqFtTotLiving: 228.8306036024083\n",
      " SqFtLot: -0.0604668206530512\n",
      " Bathrooms: -19442.840398320997\n",
      " Bedrooms: -47769.955185214465\n",
      " BldgGrade: 106106.96307898074\n"
     ]
    }
   ],
   "source": [
    "predictors = ['SqFtTotLiving', 'SqFtLot', 'Bathrooms', \n",
    "              'Bedrooms', 'BldgGrade']\n",
    "outcome = 'AdjSalePrice'\n",
    "\n",
    "house_lm = LinearRegression()\n",
    "house_lm.fit(house[predictors], house[outcome])\n",
    "\n",
    "print(f'Intercept: {house_lm.intercept_:.3f}')\n",
    "print('Coefficients:')\n",
    "for name, coef in zip(predictors, house_lm.coef_):\n",
    "    print(f' {name}: {coef}')"
   ]
  },
  {
   "cell_type": "markdown",
   "id": "6c4caa5b",
   "metadata": {},
   "source": [
    "### 모형 평가\n",
    "- 제곱근평균제곱오차(RMSE) :  예측된 값들의 평균제곱오차의 제곱근"
   ]
  },
  {
   "cell_type": "code",
   "execution_count": 12,
   "id": "af4eb67d",
   "metadata": {},
   "outputs": [
    {
     "name": "stdout",
     "output_type": "stream",
     "text": [
      "RMSE: 261220\n",
      "r2: 0.5406\n"
     ]
    }
   ],
   "source": [
    "fitted = house_lm.predict(house[predictors])\n",
    "RMSE = np.sqrt(mean_squared_error(house[outcome], fitted))\n",
    "r2 = r2_score(house[outcome], fitted)\n",
    "print(f'RMSE: {RMSE:.0f}')\n",
    "print(f'r2: {r2:.4f}')"
   ]
  },
  {
   "cell_type": "code",
   "execution_count": 13,
   "id": "0a17ac09",
   "metadata": {},
   "outputs": [
    {
     "name": "stdout",
     "output_type": "stream",
     "text": [
      "                            OLS Regression Results                            \n",
      "==============================================================================\n",
      "Dep. Variable:           AdjSalePrice   R-squared:                       0.541\n",
      "Model:                            OLS   Adj. R-squared:                  0.540\n",
      "Method:                 Least Squares   F-statistic:                     5338.\n",
      "Date:                Mon, 06 Nov 2023   Prob (F-statistic):               0.00\n",
      "Time:                        21:16:17   Log-Likelihood:            -3.1517e+05\n",
      "No. Observations:               22687   AIC:                         6.304e+05\n",
      "Df Residuals:                   22681   BIC:                         6.304e+05\n",
      "Df Model:                           5                                         \n",
      "Covariance Type:            nonrobust                                         \n",
      "=================================================================================\n",
      "                    coef    std err          t      P>|t|      [0.025      0.975]\n",
      "---------------------------------------------------------------------------------\n",
      "SqFtTotLiving   228.8306      3.899     58.694      0.000     221.189     236.472\n",
      "SqFtLot          -0.0605      0.061     -0.988      0.323      -0.180       0.059\n",
      "Bathrooms     -1.944e+04   3625.388     -5.363      0.000   -2.65e+04   -1.23e+04\n",
      "Bedrooms      -4.777e+04   2489.732    -19.187      0.000   -5.27e+04   -4.29e+04\n",
      "BldgGrade      1.061e+05   2396.445     44.277      0.000    1.01e+05    1.11e+05\n",
      "const         -5.219e+05   1.57e+04    -33.342      0.000   -5.53e+05   -4.91e+05\n",
      "==============================================================================\n",
      "Omnibus:                    29676.557   Durbin-Watson:                   1.247\n",
      "Prob(Omnibus):                  0.000   Jarque-Bera (JB):         19390738.346\n",
      "Skew:                           6.889   Prob(JB):                         0.00\n",
      "Kurtosis:                     145.559   Cond. No.                     2.86e+05\n",
      "==============================================================================\n",
      "\n",
      "Notes:\n",
      "[1] Standard Errors assume that the covariance matrix of the errors is correctly specified.\n",
      "[2] The condition number is large, 2.86e+05. This might indicate that there are\n",
      "strong multicollinearity or other numerical problems.\n"
     ]
    }
   ],
   "source": [
    "# t통계량이 높을수록(p값이 낮을 수록) 예측변수는 더욱 유의미 하다.\n",
    "model = sm.OLS(house[outcome], house[predictors].assign(const=1))\n",
    "results = model.fit()\n",
    "print(results.summary())"
   ]
  },
  {
   "cell_type": "markdown",
   "id": "f4a2983d",
   "metadata": {},
   "source": [
    "### 교차타당성 검사\n",
    "- 교차타당성검사(cross-validation) : 홀드아웃 샘플 아이디어를 여러 개의 연속된 홀드아웃 샘플로 확장한 것.\n",
    "- k다중 교차타당성검사 가 기본적이다.\n",
    "- 폴드(fold) : 훈련을 위한 홀드아웃 샘플로 데이터를 나누는 것"
   ]
  },
  {
   "cell_type": "markdown",
   "id": "d84a3621",
   "metadata": {},
   "source": [
    "### 모형 선택 및 단계적 회귀\n",
    "- 더 많은 변수를 추가한다고 해서 꼭 더 좋은 모델을 얻는 것이 아니다.\n",
    "- 모델 선택을 위한 지침으로 오컴의 면도날이라는 원리를 사용한다. \n",
    "- 모든 것이 동일한 조건에서는, 복잡한 모델보다는 단순한 모델을 우선 사용해야 한다는 원리.\n",
    "- 변수를 추가할 수록 학습 데이터에 대해 항상 RMSE는 감소하고, R^2는 증가한다. 따라서 추가하는 변수들은 모델 선택에 별로 도움 되지 않는다."
   ]
  },
  {
   "cell_type": "code",
   "execution_count": 14,
   "id": "46e83279",
   "metadata": {},
   "outputs": [
    {
     "name": "stdout",
     "output_type": "stream",
     "text": [
      "                            OLS Regression Results                            \n",
      "==============================================================================\n",
      "Dep. Variable:           AdjSalePrice   R-squared:                       0.595\n",
      "Model:                            OLS   Adj. R-squared:                  0.594\n",
      "Method:                 Least Squares   F-statistic:                     2771.\n",
      "Date:                Mon, 06 Nov 2023   Prob (F-statistic):               0.00\n",
      "Time:                        21:16:17   Log-Likelihood:            -3.1375e+05\n",
      "No. Observations:               22687   AIC:                         6.275e+05\n",
      "Df Residuals:                   22674   BIC:                         6.276e+05\n",
      "Df Model:                          12                                         \n",
      "Covariance Type:            nonrobust                                         \n",
      "==============================================================================================\n",
      "                                 coef    std err          t      P>|t|      [0.025      0.975]\n",
      "----------------------------------------------------------------------------------------------\n",
      "SqFtTotLiving                198.6364      4.234     46.920      0.000     190.338     206.934\n",
      "SqFtLot                        0.0771      0.058      1.330      0.184      -0.037       0.191\n",
      "Bathrooms                   4.286e+04   3808.114     11.255      0.000    3.54e+04    5.03e+04\n",
      "Bedrooms                   -5.187e+04   2396.904    -21.638      0.000   -5.66e+04   -4.72e+04\n",
      "BldgGrade                   1.373e+05   2441.242     56.228      0.000    1.32e+05    1.42e+05\n",
      "NbrLivingUnits              5723.8438   1.76e+04      0.326      0.744   -2.87e+04    4.01e+04\n",
      "SqFtFinBasement                7.0611      4.627      1.526      0.127      -2.009      16.131\n",
      "YrBuilt                    -3574.2210     77.228    -46.282      0.000   -3725.593   -3422.849\n",
      "YrRenovated                   -2.5311      3.924     -0.645      0.519     -10.222       5.160\n",
      "NewConstruction            -2489.1122   5936.692     -0.419      0.675   -1.41e+04    9147.211\n",
      "PropertyType_Single Family  2.997e+04   2.61e+04      1.149      0.251   -2.12e+04    8.11e+04\n",
      "PropertyType_Townhouse      9.286e+04    2.7e+04      3.438      0.001    3.99e+04    1.46e+05\n",
      "const                       6.182e+06   1.55e+05     39.902      0.000    5.88e+06    6.49e+06\n",
      "==============================================================================\n",
      "Omnibus:                    31006.128   Durbin-Watson:                   1.393\n",
      "Prob(Omnibus):                  0.000   Jarque-Bera (JB):         26251977.078\n",
      "Skew:                           7.427   Prob(JB):                         0.00\n",
      "Kurtosis:                     168.984   Cond. No.                     2.98e+06\n",
      "==============================================================================\n",
      "\n",
      "Notes:\n",
      "[1] Standard Errors assume that the covariance matrix of the errors is correctly specified.\n",
      "[2] The condition number is large, 2.98e+06. This might indicate that there are\n",
      "strong multicollinearity or other numerical problems.\n"
     ]
    }
   ],
   "source": [
    "predictors = ['SqFtTotLiving', 'SqFtLot', 'Bathrooms', 'Bedrooms',\n",
    "              'BldgGrade', 'PropertyType', 'NbrLivingUnits',\n",
    "              'SqFtFinBasement', 'YrBuilt', 'YrRenovated', \n",
    "              'NewConstruction']\n",
    "\n",
    "X = pd.get_dummies(house[predictors], drop_first=True, dtype=int)\n",
    "X['NewConstruction'] = [1 if nc else 0 for nc in X['NewConstruction']]\n",
    "\n",
    "house_full = sm.OLS(house[outcome], X.assign(const=1))\n",
    "results = house_full.fit()\n",
    "print(results.summary())"
   ]
  },
  {
   "cell_type": "code",
   "execution_count": 15,
   "id": "d5388cd3",
   "metadata": {},
   "outputs": [
    {
     "name": "stdout",
     "output_type": "stream",
     "text": [
      "Variables: SqFtTotLiving, SqFtLot, Bathrooms, Bedrooms, BldgGrade, NbrLivingUnits, SqFtFinBasement, YrBuilt, YrRenovated, NewConstruction, PropertyType_Single Family, PropertyType_Townhouse\n",
      "Start: score=647988.32, constant\n",
      "Step: score=633013.35, add SqFtTotLiving\n",
      "Step: score=630793.74, add BldgGrade\n",
      "Step: score=628230.29, add YrBuilt\n",
      "Step: score=627784.16, add Bedrooms\n",
      "Step: score=627602.21, add Bathrooms\n",
      "Step: score=627525.65, add PropertyType_Townhouse\n",
      "Step: score=627525.08, add SqFtFinBasement\n",
      "Step: score=627524.98, add PropertyType_Single Family\n",
      "Step: score=627524.98, unchanged None\n",
      "\n",
      "Intercept: 6178645.017\n",
      "Coefficients:\n",
      " SqFtTotLiving: 199.27755304201781\n",
      " BldgGrade: 137159.56022619802\n",
      " YrBuilt: -3565.424939249281\n",
      " Bedrooms: -51947.38367361341\n",
      " Bathrooms: 42396.16452771811\n",
      " PropertyType_Townhouse: 84479.16203300335\n",
      " SqFtFinBasement: 7.046974967583083\n",
      " PropertyType_Single Family: 22912.055187017646\n"
     ]
    }
   ],
   "source": [
    "# AIC : 모델에 항을 추가할수록 불이익을 주는 측정 기준\n",
    "# 1. 주어진 변수 집합에 대해 적합 모델을 변환하는 함수를 정의한다.\n",
    "# 2. 주어진 모델과 변수 세트에 대한 점수를 반환하는 함수를 정의한다.\n",
    "y = house[outcome]\n",
    "\n",
    "def train_model(variables):\n",
    "    if len(variables) == 0:\n",
    "        return None\n",
    "    model = LinearRegression()\n",
    "    model.fit(X[variables], y)\n",
    "    return model\n",
    "\n",
    "def score_model(model, variables):\n",
    "    if len(variables) == 0:\n",
    "        return AIC_score(y, [y.mean()] * len(y), model, df=1)\n",
    "    return AIC_score(y, model.predict(X[variables]), model)\n",
    "\n",
    "best_model, best_variables = stepwise_selection(X.columns, train_model, score_model, \n",
    "                                                verbose=True)\n",
    "\n",
    "print()\n",
    "print(f'Intercept: {best_model.intercept_:.3f}')\n",
    "print('Coefficients:')\n",
    "for name, coef in zip(best_variables, best_model.coef_):\n",
    "    print(f' {name}: {coef}')"
   ]
  },
  {
   "cell_type": "markdown",
   "id": "e41c268b",
   "metadata": {},
   "source": [
    "### 가중회귀\n",
    "- 서로 다른 관측치를 다른 정밀도로 측정했을 때, 역분산 가중치를 얻을 수 있다. 분산이 높을 수록 가중치가 낮다.\n",
    "- 가중치 변수가 집계된 데이터의 각 행이 나타내는 원본 관측치의 수를 인코딩하도록, 행이 여러 경우를 의미하는 데이터를 분석할 수 있다.\n",
    "\n",
    "- 다중선형회귀모형은 한 응단변수Y와 여러개의 예측변수 간의 관계를 나타낸다.\n",
    "- 모델을 평가하는 가장 중요한 지표는 제곱근평균제곱오차(RMSE)와 R제곱(R^2)이다.\n",
    "- 계수들의 표준오차는 모델에 대한 변수 기여도의 신뢰도를 측정하는데 사용된다.\n",
    "- 단계적 회귀는 모델을 만드는데 필요한 변수들을 자동으로 결정하는 방법이다.\n",
    "- 가중회귀는 방정식을 피팅할 때 레코드별로 가중치를 주기 위해 사용한다."
   ]
  },
  {
   "cell_type": "code",
   "execution_count": 16,
   "id": "072efb9c",
   "metadata": {},
   "outputs": [],
   "source": [
    "house['Year'] = [int(date.split('-')[0]) for date in house.DocumentDate]\n",
    "house['Year'] = house.DocumentDate.apply(lambda d: int(d.split('-')[0]))\n",
    "house['Weight'] = house.Year - 2005"
   ]
  },
  {
   "cell_type": "code",
   "execution_count": 17,
   "id": "d4fa35a3",
   "metadata": {},
   "outputs": [
    {
     "data": {
      "text/html": [
       "<div>\n",
       "<style scoped>\n",
       "    .dataframe tbody tr th:only-of-type {\n",
       "        vertical-align: middle;\n",
       "    }\n",
       "\n",
       "    .dataframe tbody tr th {\n",
       "        vertical-align: top;\n",
       "    }\n",
       "\n",
       "    .dataframe thead th {\n",
       "        text-align: right;\n",
       "    }\n",
       "</style>\n",
       "<table border=\"1\" class=\"dataframe\">\n",
       "  <thead>\n",
       "    <tr style=\"text-align: right;\">\n",
       "      <th></th>\n",
       "      <th>predictor</th>\n",
       "      <th>house_lm</th>\n",
       "      <th>house_wt</th>\n",
       "    </tr>\n",
       "  </thead>\n",
       "  <tbody>\n",
       "    <tr>\n",
       "      <th>0</th>\n",
       "      <td>SqFtTotLiving</td>\n",
       "      <td>228.830604</td>\n",
       "      <td>245.024089</td>\n",
       "    </tr>\n",
       "    <tr>\n",
       "      <th>1</th>\n",
       "      <td>SqFtLot</td>\n",
       "      <td>-0.060467</td>\n",
       "      <td>-0.292415</td>\n",
       "    </tr>\n",
       "    <tr>\n",
       "      <th>2</th>\n",
       "      <td>Bathrooms</td>\n",
       "      <td>-19442.840398</td>\n",
       "      <td>-26085.970109</td>\n",
       "    </tr>\n",
       "    <tr>\n",
       "      <th>3</th>\n",
       "      <td>Bedrooms</td>\n",
       "      <td>-47769.955185</td>\n",
       "      <td>-53608.876436</td>\n",
       "    </tr>\n",
       "    <tr>\n",
       "      <th>4</th>\n",
       "      <td>BldgGrade</td>\n",
       "      <td>106106.963079</td>\n",
       "      <td>115242.434726</td>\n",
       "    </tr>\n",
       "    <tr>\n",
       "      <th>0</th>\n",
       "      <td>intercept</td>\n",
       "      <td>-521871.368188</td>\n",
       "      <td>-584189.329446</td>\n",
       "    </tr>\n",
       "  </tbody>\n",
       "</table>\n",
       "</div>"
      ],
      "text/plain": [
       "       predictor       house_lm       house_wt\n",
       "0  SqFtTotLiving     228.830604     245.024089\n",
       "1        SqFtLot      -0.060467      -0.292415\n",
       "2      Bathrooms  -19442.840398  -26085.970109\n",
       "3       Bedrooms  -47769.955185  -53608.876436\n",
       "4      BldgGrade  106106.963079  115242.434726\n",
       "0      intercept -521871.368188 -584189.329446"
      ]
     },
     "execution_count": 17,
     "metadata": {},
     "output_type": "execute_result"
    }
   ],
   "source": [
    "predictors = ['SqFtTotLiving', 'SqFtLot', 'Bathrooms', \n",
    "              'Bedrooms', 'BldgGrade']\n",
    "outcome = 'AdjSalePrice'\n",
    "\n",
    "house_wt = LinearRegression()\n",
    "house_wt.fit(house[predictors], house[outcome], sample_weight=house.Weight)\n",
    "\n",
    "pd.concat([\n",
    "    pd.DataFrame({\n",
    "        'predictor': predictors,\n",
    "        'house_lm': house_lm.coef_,\n",
    "        'house_wt': house_wt.coef_,    \n",
    "    }),\n",
    "    pd.DataFrame({\n",
    "        'predictor': ['intercept'],\n",
    "        'house_lm': house_lm.intercept_,\n",
    "        'house_wt': house_wt.intercept_,    \n",
    "    })\n",
    "])"
   ]
  },
  {
   "cell_type": "code",
   "execution_count": 18,
   "id": "9ad648d3",
   "metadata": {},
   "outputs": [
    {
     "name": "stdout",
     "output_type": "stream",
     "text": [
      "   abs_residual_lm  abs_residual_wt  Year\n",
      "1    123750.814194    107108.553965  2014\n",
      "2     59145.413089     96191.882094  2006\n",
      "3    190108.725716    187004.492880  2007\n",
      "4    198788.774412    196132.996857  2008\n",
      "5     91774.996129     84277.577512  2013\n"
     ]
    },
    {
     "data": {
      "text/html": [
       "<div>\n",
       "<style scoped>\n",
       "    .dataframe tbody tr th:only-of-type {\n",
       "        vertical-align: middle;\n",
       "    }\n",
       "\n",
       "    .dataframe tbody tr th {\n",
       "        vertical-align: top;\n",
       "    }\n",
       "\n",
       "    .dataframe thead th {\n",
       "        text-align: right;\n",
       "    }\n",
       "</style>\n",
       "<table border=\"1\" class=\"dataframe\">\n",
       "  <thead>\n",
       "    <tr style=\"text-align: right;\">\n",
       "      <th></th>\n",
       "      <th>Year</th>\n",
       "      <th>mean abs_residual_lm</th>\n",
       "      <th>mean abs_residual_wt</th>\n",
       "    </tr>\n",
       "  </thead>\n",
       "  <tbody>\n",
       "    <tr>\n",
       "      <th>0</th>\n",
       "      <td>2006</td>\n",
       "      <td>140540.303585</td>\n",
       "      <td>146557.454636</td>\n",
       "    </tr>\n",
       "    <tr>\n",
       "      <th>1</th>\n",
       "      <td>2007</td>\n",
       "      <td>147747.577959</td>\n",
       "      <td>152848.523235</td>\n",
       "    </tr>\n",
       "    <tr>\n",
       "      <th>2</th>\n",
       "      <td>2008</td>\n",
       "      <td>142086.905943</td>\n",
       "      <td>146360.411668</td>\n",
       "    </tr>\n",
       "    <tr>\n",
       "      <th>3</th>\n",
       "      <td>2009</td>\n",
       "      <td>147016.720883</td>\n",
       "      <td>151182.924825</td>\n",
       "    </tr>\n",
       "    <tr>\n",
       "      <th>4</th>\n",
       "      <td>2010</td>\n",
       "      <td>163267.674885</td>\n",
       "      <td>166364.476152</td>\n",
       "    </tr>\n",
       "    <tr>\n",
       "      <th>5</th>\n",
       "      <td>2011</td>\n",
       "      <td>169937.385744</td>\n",
       "      <td>172950.876028</td>\n",
       "    </tr>\n",
       "    <tr>\n",
       "      <th>6</th>\n",
       "      <td>2012</td>\n",
       "      <td>169506.670053</td>\n",
       "      <td>171874.424266</td>\n",
       "    </tr>\n",
       "    <tr>\n",
       "      <th>7</th>\n",
       "      <td>2013</td>\n",
       "      <td>203659.777510</td>\n",
       "      <td>206242.199403</td>\n",
       "    </tr>\n",
       "    <tr>\n",
       "      <th>8</th>\n",
       "      <td>2014</td>\n",
       "      <td>184452.840665</td>\n",
       "      <td>186668.573750</td>\n",
       "    </tr>\n",
       "    <tr>\n",
       "      <th>9</th>\n",
       "      <td>2015</td>\n",
       "      <td>172323.435147</td>\n",
       "      <td>169842.742053</td>\n",
       "    </tr>\n",
       "  </tbody>\n",
       "</table>\n",
       "</div>"
      ],
      "text/plain": [
       "   Year  mean abs_residual_lm  mean abs_residual_wt\n",
       "0  2006         140540.303585         146557.454636\n",
       "1  2007         147747.577959         152848.523235\n",
       "2  2008         142086.905943         146360.411668\n",
       "3  2009         147016.720883         151182.924825\n",
       "4  2010         163267.674885         166364.476152\n",
       "5  2011         169937.385744         172950.876028\n",
       "6  2012         169506.670053         171874.424266\n",
       "7  2013         203659.777510         206242.199403\n",
       "8  2014         184452.840665         186668.573750\n",
       "9  2015         172323.435147         169842.742053"
      ]
     },
     "execution_count": 18,
     "metadata": {},
     "output_type": "execute_result"
    }
   ],
   "source": [
    "residuals = pd.DataFrame({\n",
    "    'abs_residual_lm': np.abs(house_lm.predict(house[predictors]) - house[outcome]),\n",
    "    'abs_residual_wt': np.abs(house_wt.predict(house[predictors]) - house[outcome]),\n",
    "    'Year': house['Year'],\n",
    "})\n",
    "print(residuals.head())\n",
    "# axes = residuals.boxplot(['abs_residual_lm', 'abs_residual_wt'], by='Year', figsize=(10, 4))\n",
    "# axes[0].set_ylim(0, 300000)\n",
    "\n",
    "pd.DataFrame(([year, np.mean(group['abs_residual_lm']), np.mean(group['abs_residual_wt'])] \n",
    "              for year, group in residuals.groupby('Year')),\n",
    "             columns=['Year', 'mean abs_residual_lm', 'mean abs_residual_wt'])\n",
    "# for year, group in residuals.groupby('Year'):\n",
    "#     print(year, np.mean(group['abs_residual_lm']), np.mean(group['abs_residual_wt']))"
   ]
  },
  {
   "cell_type": "markdown",
   "id": "fb2563e1",
   "metadata": {},
   "source": [
    "### 회귀를 이용한 예측\n",
    "- 예측구간 : 개별 예측값 주위의 불확실한 구간\n",
    "- 외삽법(extrapolation) : 모델링에 사용된 데이터 범위를 벗어난 부분까지 모델을 확장하는것\n",
    "- 회귀모형을 데이터 범위를 초과하면서까지 외삽하는데 사용해서는 안된다.\n",
    "- 회귀모형은 충분한 데이터 값이 있는 예측변수에 대해서만 유효하다.\n",
    "- 개별 데이터 값의 오차는 회귀방정식이 무엇인지 정확히 알았다 하더라도 주어진 예측변숫값에 대한 실제 결괏값은 달라질 수 있다.\n",
    "주요개념\n",
    "- 데이터 범위를 벗어나는 외삽은 오류를 유발할 수 있다.\n",
    "- 신뢰구간은 회귀계수 주변의 불확실성을 정량화한다.\n",
    "- 예측구간은 개별 예측값의 불확실성을 정량화한다.\n",
    "- 예측 및 신뢰 구간 생성을 위한 수식 대신 부트스트랩을 사용할 수 있다. 해석과 개념은 같다."
   ]
  },
  {
   "cell_type": "markdown",
   "id": "75bc5325",
   "metadata": {},
   "source": [
    "### 회귀에서의 요인변수\n",
    "- 요인변수(범주변수) : 개수가 제한된 이산값을 취한다.\n",
    "- 가변수(dummy variable) : 회귀나 다른 모델에서 요인 데이터를 사용하기 위해 0과 1의 이진변수로 부호화한 변수\n",
    "- 기준 부호화(처리부호화, reference coding) :  통계학자들이 많이 사용하는 부호화 형태, 여기서 한 요인을 기준으로하고 다른 요인들이 이 기준에 따라 비교할 수 있도록 한다.\n",
    "- 원핫 인코딩 : 머신러닝 분야에서 많이 사용되는 부호화. 모든 요인 수준이 계속 유지된다. 어떤 머신러닝 알고리즘에서는 유용한 반면, 다중선형회귀에는 적합하지 않다.\n",
    "- 편차 부호화(총합대비,deviation coding): 기준 수준과는 반대로 전체 평균에 대해 각 수준을 비교하는 부호화 방법"
   ]
  },
  {
   "cell_type": "code",
   "execution_count": 19,
   "id": "784eb6d3",
   "metadata": {},
   "outputs": [
    {
     "name": "stdout",
     "output_type": "stream",
     "text": [
      "1        Multiplex\n",
      "2    Single Family\n",
      "3    Single Family\n",
      "4    Single Family\n",
      "5    Single Family\n",
      "Name: PropertyType, dtype: object\n"
     ]
    }
   ],
   "source": [
    "print(house.PropertyType.head())"
   ]
  },
  {
   "cell_type": "code",
   "execution_count": 20,
   "id": "c94020ab",
   "metadata": {},
   "outputs": [
    {
     "name": "stdout",
     "output_type": "stream",
     "text": [
      "   Multiplex  Single Family  Townhouse\n",
      "1          1              0          0\n",
      "2          0              1          0\n",
      "3          0              1          0\n",
      "4          0              1          0\n",
      "5          0              1          0\n",
      "6          0              0          1\n"
     ]
    }
   ],
   "source": [
    "print(pd.get_dummies(house['PropertyType']).head(6))"
   ]
  },
  {
   "cell_type": "code",
   "execution_count": 21,
   "id": "98bbb203",
   "metadata": {},
   "outputs": [
    {
     "name": "stdout",
     "output_type": "stream",
     "text": [
      "   Single Family  Townhouse\n",
      "1              0          0\n",
      "2              1          0\n",
      "3              1          0\n",
      "4              1          0\n",
      "5              1          0\n",
      "6              0          1\n"
     ]
    }
   ],
   "source": [
    "print(pd.get_dummies(house['PropertyType'], drop_first=True).head(6))"
   ]
  },
  {
   "cell_type": "code",
   "execution_count": 22,
   "id": "846367ce",
   "metadata": {},
   "outputs": [
    {
     "name": "stdout",
     "output_type": "stream",
     "text": [
      "Intercept: -446841.366\n",
      "Coefficients:\n",
      " SqFtTotLiving: 223.37362892503862\n",
      " SqFtLot: -0.0703679813681326\n",
      " Bathrooms: -15979.013473414965\n",
      " Bedrooms: -50889.73218483036\n",
      " BldgGrade: 109416.30516146174\n",
      " PropertyType_Single Family: -84678.21629549288\n",
      " PropertyType_Townhouse: -115121.97921609206\n"
     ]
    }
   ],
   "source": [
    "predictors = ['SqFtTotLiving', 'SqFtLot', 'Bathrooms', 'Bedrooms',\n",
    "              'BldgGrade', 'PropertyType']\n",
    "\n",
    "X = pd.get_dummies(house[predictors], drop_first=True)\n",
    "\n",
    "house_lm_factor = LinearRegression()\n",
    "house_lm_factor.fit(X, house[outcome])\n",
    "\n",
    "print(f'Intercept: {house_lm_factor.intercept_:.3f}')\n",
    "print('Coefficients:')\n",
    "for name, coef in zip(X.columns, house_lm_factor.coef_):\n",
    "    print(f' {name}: {coef}')"
   ]
  },
  {
   "cell_type": "markdown",
   "id": "35e2dba7",
   "metadata": {},
   "source": [
    "### 다수의 수준을 갖는 요인변수들"
   ]
  },
  {
   "cell_type": "code",
   "execution_count": 23,
   "id": "442c9e13",
   "metadata": {},
   "outputs": [
    {
     "name": "stdout",
     "output_type": "stream",
     "text": [
      "         98038  98103  98042  98115  98117  98052  98034  98033  98059  98074  \\\n",
      "ZipCode    788    671    641    620    619    614    575    517    513    502   \n",
      "\n",
      "         ...  98051  98024  98354  98050  98288  98057  98224  98113  98043  \\\n",
      "ZipCode  ...     32     31      9      7      4      4      3      1      1   \n",
      "\n",
      "         98068  \n",
      "ZipCode      1  \n",
      "\n",
      "[1 rows x 80 columns]\n"
     ]
    }
   ],
   "source": [
    "print(pd.DataFrame(house['ZipCode'].value_counts()).transpose())"
   ]
  },
  {
   "cell_type": "code",
   "execution_count": 24,
   "id": "9304d8d1",
   "metadata": {},
   "outputs": [
    {
     "name": "stdout",
     "output_type": "stream",
     "text": [
      "0    16\n",
      "1    16\n",
      "2    16\n",
      "3    16\n",
      "4    16\n",
      "Name: ZipGroup, dtype: int64\n"
     ]
    }
   ],
   "source": [
    "# 대안은 매매 가격과 같은 다른 변수에 따라 우편번호를 그룹으로 묶는것이다. \n",
    "# 아니면 초기 모델의 잔차를 사용하여 우편번호 그룹을 만드는 방법도 좋다.\n",
    "house = pd.read_csv(HOUSE_CSV, sep='\\t')\n",
    "\n",
    "predictors = ['SqFtTotLiving', 'SqFtLot', 'Bathrooms', \n",
    "              'Bedrooms', 'BldgGrade']\n",
    "outcome = 'AdjSalePrice'\n",
    "\n",
    "house_lm = LinearRegression()\n",
    "house_lm.fit(house[predictors], house[outcome])\n",
    "\n",
    "\n",
    "zip_groups = pd.DataFrame([\n",
    "    *pd.DataFrame({\n",
    "        'ZipCode': house['ZipCode'],\n",
    "        'residual' : house[outcome] - house_lm.predict(house[predictors]),\n",
    "    })\n",
    "    .groupby(['ZipCode'])\n",
    "    .apply(lambda x: {\n",
    "        'ZipCode': x.iloc[0,0],\n",
    "        'count': len(x),\n",
    "        'median_residual': x.residual.median()\n",
    "    })\n",
    "]).sort_values('median_residual')\n",
    "zip_groups['cum_count'] = np.cumsum(zip_groups['count'])\n",
    "zip_groups['ZipGroup'] = pd.qcut(zip_groups['cum_count'], 5, labels=False, retbins=False)\n",
    "zip_groups.head()\n",
    "print(zip_groups.ZipGroup.value_counts().sort_index())"
   ]
  },
  {
   "cell_type": "code",
   "execution_count": 25,
   "id": "2dcfa5da",
   "metadata": {},
   "outputs": [],
   "source": [
    "to_join = zip_groups[['ZipCode', 'ZipGroup']].set_index('ZipCode')\n",
    "house = house.join(to_join, on='ZipCode')\n",
    "house['ZipGroup'] = house['ZipGroup'].astype('category')"
   ]
  },
  {
   "cell_type": "markdown",
   "id": "c62cb06d",
   "metadata": {},
   "source": [
    "### 순서가 있는 요인변수\n",
    "- 순서 범주형 변수 : 일반적으로 숫자 값으로 변환하여 그대로 사용할 수 있다.\n",
    "- 요인변수는 회귀를 위해 수치형 변수로 변환해야 한다.\n",
    "- 요인변수를 P개의 개별 값으로 인코딩하기 위한 가장 흔한 방법은 P-1개의 가변수를 만들어 사용하는 것이다.\n",
    "- 다수의 수준을 갖는 요인변수의 경우, 더 적은 수의 수준을 갖는 변수가 되도록 수준들을 통합해야한다.\n",
    "- 순서를 갖는 요인변수의 경우, 수치형 변수로 변환하여 사용할 수 있다."
   ]
  },
  {
   "cell_type": "markdown",
   "id": "c03f29b3",
   "metadata": {},
   "source": [
    "### 회귀방정식 해석\n",
    "- 변수 간 상관(correlated variables) : 변수들이 같은 방향으로 움직이려는 경향을 가짐. 예측변수끼리 서로 높은 상관성을 가질때는 개별 계수를 해석하는 것이 어렵다.\n",
    "- 다중공선성(공선성, multicolinearity) : 예측변수들이 완벽하거나 거의 완벽에 가까운 상관성을 갖는다고 할때, 회귀는 불안정하며 계산이 불가능하다.\n",
    "- 교란변수(confuounding variable) : 중요한 예측변수이지만 회귀방정식에 누락되어 결과를 잘못되게 이끄는 변수\n",
    "- 주효과(main effect) : 다른변수들과 독립된, 하나의 예측변수와 결과변수 사이의 관계\n",
    "- 상호작용(interaction) : 둘 이상의 예측변수와 응답변수 사이의 상호 의존적인 관꼐"
   ]
  },
  {
   "cell_type": "markdown",
   "id": "8b91d5c0",
   "metadata": {},
   "source": [
    "### 예측변수 간 상관"
   ]
  },
  {
   "cell_type": "code",
   "execution_count": 26,
   "id": "9ab3a768",
   "metadata": {},
   "outputs": [
    {
     "name": "stdout",
     "output_type": "stream",
     "text": [
      "Intercept: 6178645.017\n",
      "Coefficients:\n",
      " SqFtTotLiving: 199.27755304201781\n",
      " BldgGrade: 137159.56022619802\n",
      " YrBuilt: -3565.424939249281\n",
      " Bedrooms: -51947.38367361341\n",
      " Bathrooms: 42396.16452771811\n",
      " PropertyType_Townhouse: 84479.16203300335\n",
      " SqFtFinBasement: 7.046974967583083\n",
      " PropertyType_Single Family: 22912.055187017646\n"
     ]
    }
   ],
   "source": [
    "# Bedrooms의 계수가 음수인걸 볼 수 있다.\n",
    "# 즉 침실 개수를 늘릴 수록 그 가치가 감소한다는 것을 의미한다.\n",
    "print(f'Intercept: {best_model.intercept_:.3f}')\n",
    "print('Coefficients:')\n",
    "for name, coef in zip(best_variables, best_model.coef_):\n",
    "    print(f' {name}: {coef}')"
   ]
  },
  {
   "cell_type": "code",
   "execution_count": 27,
   "id": "ddc0834d",
   "metadata": {},
   "outputs": [
    {
     "name": "stdout",
     "output_type": "stream",
     "text": [
      "Intercept: 4913973.344\n",
      "Coefficients:\n",
      " Bedrooms: 27150.53723020485\n",
      " BldgGrade: 248997.7936621382\n",
      " YrBuilt: -3211.7448621550866\n",
      " PropertyType_Single Family: -19898.495340497393\n",
      " PropertyType_Townhouse: -47355.43687333973\n"
     ]
    }
   ],
   "source": [
    "predictors = ['Bedrooms', 'BldgGrade', 'PropertyType', 'YrBuilt']\n",
    "outcome = 'AdjSalePrice'\n",
    "\n",
    "X = pd.get_dummies(house[predictors], drop_first=True)\n",
    "\n",
    "reduced_lm = LinearRegression()\n",
    "reduced_lm.fit(X, house[outcome])\n",
    "\n",
    "\n",
    "print(f'Intercept: {reduced_lm.intercept_:.3f}')\n",
    "print('Coefficients:')\n",
    "for name, coef in zip(X.columns, reduced_lm.coef_):\n",
    "    print(f' {name}: {coef}')"
   ]
  },
  {
   "cell_type": "markdown",
   "id": "32a5764d",
   "metadata": {},
   "source": [
    "### 다중공선성\n",
    "- 완전 다중공선성은 한 예측변수가 다른 변수들의 선형결합으로 표현된다는 것을 의미한다.\n",
    "\n",
    "다중공선성 발생 경우\n",
    "- 오류로 인해 한 변수가 여러번 포함된 경우\n",
    "- 요인변수로부터 P-1개가 아닌 P개의 가변수가 만들어진 경우\n",
    "- 두 변수가 서로 거의 완벽하게 상관성이 있는 경우\n",
    "\n",
    "### 교란변수\n",
    "- 회귀방정식에 중요한 변수가 포함되지 못해서 생기는 누락의 문제이다. 이 경우 방정식 계수에 대한 순진한 해석은 잘못된 결론으로 이어질 수 있다."
   ]
  },
  {
   "cell_type": "code",
   "execution_count": 28,
   "id": "b0fb543d",
   "metadata": {},
   "outputs": [
    {
     "name": "stdout",
     "output_type": "stream",
     "text": [
      "Intercept: -666637.469\n",
      "Coefficients:\n",
      " SqFtTotLiving: 210.61266005580185\n",
      " SqFtLot: 0.45498713854659023\n",
      " Bathrooms: 5928.425640001732\n",
      " Bedrooms: -41682.87184074484\n",
      " BldgGrade: 98541.1835272596\n",
      " PropertyType_Single Family: 19323.625287918803\n",
      " PropertyType_Townhouse: -78198.72092762418\n",
      " ZipGroup_1: 53317.1733065981\n",
      " ZipGroup_2: 116251.58883563499\n",
      " ZipGroup_3: 178360.53178793323\n",
      " ZipGroup_4: 338408.60185651964\n"
     ]
    }
   ],
   "source": [
    "predictors = ['SqFtTotLiving', 'SqFtLot', 'Bathrooms', 'Bedrooms',\n",
    "              'BldgGrade', 'PropertyType', 'ZipGroup']\n",
    "outcome = 'AdjSalePrice'\n",
    "\n",
    "X = pd.get_dummies(house[predictors], drop_first=True)\n",
    "\n",
    "confounding_lm = LinearRegression()\n",
    "confounding_lm.fit(X, house[outcome])\n",
    "\n",
    "print(f'Intercept: {confounding_lm.intercept_:.3f}')\n",
    "print('Coefficients:')\n",
    "for name, coef in zip(X.columns, confounding_lm.coef_):\n",
    "    print(f' {name}: {coef}')"
   ]
  },
  {
   "cell_type": "markdown",
   "id": "4b290076",
   "metadata": {},
   "source": [
    "### 상호작용과 주효과\n",
    "- 통계학자는 주효과(독립변수)와 주효과 사이의 상호작용을 구별하기 좋아한다.\n",
    "- 주효과는 회귀 방정식에서 종종 예측변수라고 불린다.\n",
    "- 예측변수들 사이의 상관성 때문에, 다중선형회귀에서 계수들을 해석할 때는 주의해야한다.\n",
    "- 다중공선성은 회귀방정식을 피팅할 때, 수치 불안정성을 유발할 수 있다.\n",
    "- 교란변수란, 모델에서 생략된 중요한 예측변수를 의미하며, 이에 따라 실제로 관계가 없는데 허위로 있는 것처럼 회귀 결과가 나올 수 있다.\n",
    "- 변수와 결과가 서로 의존적일 때, 두 변수 사이의 상호작용을 고려할 필요가 있다."
   ]
  },
  {
   "cell_type": "code",
   "execution_count": 29,
   "id": "4d568aa4",
   "metadata": {},
   "outputs": [
    {
     "name": "stdout",
     "output_type": "stream",
     "text": [
      "                            OLS Regression Results                            \n",
      "==============================================================================\n",
      "Dep. Variable:           AdjSalePrice   R-squared:                       0.682\n",
      "Model:                            OLS   Adj. R-squared:                  0.682\n",
      "Method:                 Least Squares   F-statistic:                     3247.\n",
      "Date:                Tue, 07 Nov 2023   Prob (F-statistic):               0.00\n",
      "Time:                        23:43:17   Log-Likelihood:            -3.1098e+05\n",
      "No. Observations:               22687   AIC:                         6.220e+05\n",
      "Df Residuals:                   22671   BIC:                         6.221e+05\n",
      "Df Model:                          15                                         \n",
      "Covariance Type:            nonrobust                                         \n",
      "=================================================================================================\n",
      "                                    coef    std err          t      P>|t|      [0.025      0.975]\n",
      "-------------------------------------------------------------------------------------------------\n",
      "Intercept                     -4.853e+05   2.05e+04    -23.701      0.000   -5.25e+05   -4.45e+05\n",
      "ZipGroup[T.1]                 -1.113e+04   1.34e+04     -0.830      0.407   -3.74e+04    1.52e+04\n",
      "ZipGroup[T.2]                  2.032e+04   1.18e+04      1.717      0.086   -2877.441    4.35e+04\n",
      "ZipGroup[T.3]                   2.05e+04   1.21e+04      1.697      0.090   -3180.870    4.42e+04\n",
      "ZipGroup[T.4]                 -1.499e+05   1.13e+04    -13.285      0.000   -1.72e+05   -1.28e+05\n",
      "PropertyType[T.Single Family]  1.357e+04   1.39e+04      0.975      0.330   -1.37e+04    4.09e+04\n",
      "PropertyType[T.Townhouse]     -5.884e+04   1.51e+04     -3.888      0.000   -8.85e+04   -2.92e+04\n",
      "SqFtTotLiving                   114.7650      4.863     23.600      0.000     105.233     124.297\n",
      "SqFtTotLiving:ZipGroup[T.1]      32.6043      5.712      5.708      0.000      21.409      43.799\n",
      "SqFtTotLiving:ZipGroup[T.2]      41.7822      5.187      8.056      0.000      31.616      51.948\n",
      "SqFtTotLiving:ZipGroup[T.3]      69.3415      5.619     12.341      0.000      58.329      80.354\n",
      "SqFtTotLiving:ZipGroup[T.4]     226.6836      4.820     47.032      0.000     217.237     236.131\n",
      "SqFtLot                           0.6869      0.052     13.296      0.000       0.586       0.788\n",
      "Bathrooms                     -3619.4533   3202.296     -1.130      0.258   -9896.174    2657.267\n",
      "Bedrooms                       -4.18e+04   2120.279    -19.715      0.000    -4.6e+04   -3.76e+04\n",
      "BldgGrade                      1.047e+05   2069.472     50.592      0.000    1.01e+05    1.09e+05\n",
      "==============================================================================\n",
      "Omnibus:                    30927.394   Durbin-Watson:                   1.581\n",
      "Prob(Omnibus):                  0.000   Jarque-Bera (JB):         34361794.502\n",
      "Skew:                           7.279   Prob(JB):                         0.00\n",
      "Kurtosis:                     193.101   Cond. No.                     5.80e+05\n",
      "==============================================================================\n",
      "\n",
      "Notes:\n",
      "[1] Standard Errors assume that the covariance matrix of the errors is correctly specified.\n",
      "[2] The condition number is large, 5.8e+05. This might indicate that there are\n",
      "strong multicollinearity or other numerical problems.\n"
     ]
    }
   ],
   "source": [
    "model = smf.ols(formula='AdjSalePrice ~  SqFtTotLiving*ZipGroup + SqFtLot + ' +\n",
    "     'Bathrooms + Bedrooms + BldgGrade + PropertyType', data=house)\n",
    "results = model.fit()\n",
    "print(results.summary())"
   ]
  },
  {
   "cell_type": "markdown",
   "id": "5afda819",
   "metadata": {},
   "source": [
    "### 회귀진단\n",
    "- 표준화잔차 : 잔차를 표준오차로 나눈 값\n",
    "- 특잇값 : 나머지 데이터(혹은 예측값)와 멀리 떨어진 레코드(혹은 출력값)\n",
    "- 영향값 : 있을 때와 없을 때 회귀방정식이 큰 차이를 보이는 값 혹은 레코드\n",
    "- 지렛대(레버리지, 햇값hat-value) : 회귀식에 한 레코드가 미치는 영향력의 정도\n",
    "- 비정규 잔차(non-normal residual) : 정규분포를 따르지 않는 잔차는 회귀분석의 요건을 무효로 만들 수 있다.\n",
    "- 이분산성 : 어떤 범위 내 출력값의 잔차가 매우 놓은 분산을 보이는 경향(어떤 예측변수를 회귀식이 놓치고 있다는 것을 의미할 수 있다.)\n",
    "- 편잔차그림(추가변수그림) : 결과변수와 특정 예측변수 사이의 관계를 진단하는 그림"
   ]
  },
  {
   "cell_type": "markdown",
   "id": "02dd9463",
   "metadata": {},
   "source": [
    "### 특잇값\n",
    "- 표준화잔차를 조사해서 특잇값을 발견할 수 있다.\n",
    "- 빅데이터의 경우, 새로운 데이터를 예측하기 위한 회귀분석에서 특잇값이 그렇게 문제가 되지는 않는다.\n",
    "- 그러나 특잇값을 찾는 것이 주목적인 특잇값 검출의 경우 이값들이 매우 중요해진다."
   ]
  },
  {
   "cell_type": "code",
   "execution_count": 30,
   "id": "12d7c5ea",
   "metadata": {
    "scrolled": true
   },
   "outputs": [
    {
     "name": "stdout",
     "output_type": "stream",
     "text": [
      "                            OLS Regression Results                            \n",
      "==============================================================================\n",
      "Dep. Variable:           AdjSalePrice   R-squared:                       0.795\n",
      "Model:                            OLS   Adj. R-squared:                  0.792\n",
      "Method:                 Least Squares   F-statistic:                     238.7\n",
      "Date:                Thu, 09 Nov 2023   Prob (F-statistic):          1.69e-103\n",
      "Time:                        13:35:52   Log-Likelihood:                -4226.0\n",
      "No. Observations:                 313   AIC:                             8464.\n",
      "Df Residuals:                     307   BIC:                             8486.\n",
      "Df Model:                           5                                         \n",
      "Covariance Type:            nonrobust                                         \n",
      "=================================================================================\n",
      "                    coef    std err          t      P>|t|      [0.025      0.975]\n",
      "---------------------------------------------------------------------------------\n",
      "SqFtTotLiving   209.6023     24.408      8.587      0.000     161.574     257.631\n",
      "SqFtLot          38.9333      5.330      7.305      0.000      28.445      49.421\n",
      "Bathrooms      2282.2641      2e+04      0.114      0.909    -3.7e+04    4.16e+04\n",
      "Bedrooms      -2.632e+04   1.29e+04     -2.043      0.042   -5.17e+04    -973.867\n",
      "BldgGrade        1.3e+05   1.52e+04      8.533      0.000       1e+05     1.6e+05\n",
      "const         -7.725e+05   9.83e+04     -7.861      0.000   -9.66e+05   -5.79e+05\n",
      "==============================================================================\n",
      "Omnibus:                       82.127   Durbin-Watson:                   1.508\n",
      "Prob(Omnibus):                  0.000   Jarque-Bera (JB):              586.561\n",
      "Skew:                           0.859   Prob(JB):                    4.26e-128\n",
      "Kurtosis:                       9.483   Cond. No.                     5.63e+04\n",
      "==============================================================================\n",
      "\n",
      "Notes:\n",
      "[1] Standard Errors assume that the covariance matrix of the errors is correctly specified.\n",
      "[2] The condition number is large, 5.63e+04. This might indicate that there are\n",
      "strong multicollinearity or other numerical problems.\n"
     ]
    }
   ],
   "source": [
    "house_98105 = house.loc[house['ZipCode'] == 98105, ]\n",
    "\n",
    "predictors = ['SqFtTotLiving', 'SqFtLot', 'Bathrooms', 'Bedrooms',\n",
    "              'BldgGrade']\n",
    "outcome = 'AdjSalePrice'\n",
    "\n",
    "house_outlier = sm.OLS(house_98105[outcome], house_98105[predictors].assign(const=1))\n",
    "result_98105 = house_outlier.fit()\n",
    "print(result_98105.summary())"
   ]
  },
  {
   "cell_type": "markdown",
   "id": "7e3f5002",
   "metadata": {},
   "source": [
    "### 영향값\n",
    "- 회귀모형에서 제외됐을 때, 모델에 중요한 변화를 가져오는 값을 주영향관측값이라고 한다. 이 데이터 값은 회귀에 대한 높은 레버리지를 가진 것으로 볼 수 있다.\n",
    "- 레버지지를 측정하는 일반적인 척도는 햇값(hat-value)이다.\n",
    "- 쿡의 거리는 레버리지와 잔차의 크기를 합쳐서 영향력을 판단한다.\n",
    "- 영향력(influence)plot 또는 거품(bubble) plot은 표준화잔차, 햇값, 쿡의 거리를 모두 한 그림에 표현한다.\n",
    "- 데이터가 작을 경우에만 영향력이 큰 관측 데이터를 확인하는 작업이 유용하다.\n",
    "- 데이터가 클 경우, 어떤 한 값이 회귀방정식에 엄청난 변화를 가져오기란 쉽지 않다.\n",
    "- 이상검출이 목적이라면 영향력이 높은 값을 찾는 것이 큰 도움이 된다."
   ]
  },
  {
   "cell_type": "code",
   "execution_count": 33,
   "id": "38a30ab6",
   "metadata": {},
   "outputs": [
    {
     "name": "stdout",
     "output_type": "stream",
     "text": [
      "24333 -4.326731804078564\n"
     ]
    }
   ],
   "source": [
    "influence = OLSInfluence(result_98105)\n",
    "sresiduals = influence.resid_studentized_internal\n",
    "\n",
    "print(sresiduals.idxmin(), sresiduals.min())"
   ]
  },
  {
   "cell_type": "code",
   "execution_count": 34,
   "id": "c83190f1",
   "metadata": {},
   "outputs": [
    {
     "name": "stdout",
     "output_type": "stream",
     "text": [
      "-757753.6192115829\n"
     ]
    }
   ],
   "source": [
    "print(result_98105.resid.loc[sresiduals.idxmin()])"
   ]
  },
  {
   "cell_type": "code",
   "execution_count": 35,
   "id": "41387d7f",
   "metadata": {},
   "outputs": [
    {
     "name": "stdout",
     "output_type": "stream",
     "text": [
      "AdjSalePrice 119748.0\n",
      "SqFtTotLiving    2900\n",
      "SqFtLot          7276\n",
      "Bathrooms         3.0\n",
      "Bedrooms            6\n",
      "BldgGrade           7\n",
      "Name: 24333, dtype: object\n"
     ]
    }
   ],
   "source": [
    "outlier = house_98105.loc[sresiduals.idxmin(), :]\n",
    "print('AdjSalePrice', outlier[outcome])\n",
    "print(outlier[predictors])"
   ]
  },
  {
   "cell_type": "code",
   "execution_count": 31,
   "id": "96d4394c",
   "metadata": {},
   "outputs": [
    {
     "data": {
      "image/png": "[encoded data removed]",
      "text/plain": [
       "<Figure size 288x288 with 1 Axes>"
      ]
     },
     "metadata": {
      "needs_background": "light"
     },
     "output_type": "display_data"
    }
   ],
   "source": [
    "%matplotlib inline\n",
    "from scipy.stats import linregress\n",
    "\n",
    "np.random.seed(5)\n",
    "x = np.random.normal(size=25)\n",
    "y = -x / 5 + np.random.normal(size=25)\n",
    "x[0] = 8\n",
    "y[0] = 8\n",
    "\n",
    "def abline(slope, intercept, ax):\n",
    "    \"\"\"Calculate coordinates of a line based on slope and intercept\"\"\"\n",
    "    x_vals = np.array(ax.get_xlim())\n",
    "    return (x_vals, intercept + slope * x_vals)\n",
    "\n",
    "fig, ax = plt.subplots(figsize=(4, 4))\n",
    "ax.scatter(x, y)\n",
    "slope, intercept, _, _, _ = linregress(x, y)\n",
    "ax.plot(*abline(slope, intercept, ax))\n",
    "slope, intercept, _, _, _ = linregress(x[1:], y[1:])\n",
    "ax.plot(*abline(slope, intercept, ax), '--')\n",
    "ax.set_xlim(-2.5, 8.5)\n",
    "ax.set_ylim(-2.5, 8.5)\n",
    "\n",
    "plt.tight_layout()\n",
    "plt.show()"
   ]
  },
  {
   "cell_type": "code",
   "execution_count": 36,
   "id": "9b4fccfa",
   "metadata": {},
   "outputs": [
    {
     "data": {
      "image/png": "[encoded data removed]",
      "text/plain": [
       "<Figure size 360x360 with 1 Axes>"
      ]
     },
     "metadata": {
      "needs_background": "light"
     },
     "output_type": "display_data"
    }
   ],
   "source": [
    "# 쿡의 거리에 해당하는 값은 원의 크기로 나타낸다.\n",
    "# 어떤 관측값이 높은 영향력을 보이는지 볼 수 있다. 쿡의 거리가 0.08보다 큰 점은 회색으로 강조하여 표시한다.\n",
    "influence = OLSInfluence(result_98105)\n",
    "fig, ax = plt.subplots(figsize=(5, 5))\n",
    "ax.axhline(-2.5, linestyle='--', color='C1')\n",
    "ax.axhline(2.5, linestyle='--', color='C1')\n",
    "ax.scatter(influence.hat_matrix_diag, influence.resid_studentized_internal, \n",
    "           s=1000 * np.sqrt(influence.cooks_distance[0]),\n",
    "           alpha=0.5)\n",
    "\n",
    "ax.set_xlabel('hat values')\n",
    "ax.set_ylabel('studentized residuals')\n",
    "\n",
    "plt.tight_layout()\n",
    "plt.show()"
   ]
  },
  {
   "cell_type": "code",
   "execution_count": 37,
   "id": "217260ed",
   "metadata": {},
   "outputs": [
    {
     "data": {
      "text/html": [
       "<div>\n",
       "<style scoped>\n",
       "    .dataframe tbody tr th:only-of-type {\n",
       "        vertical-align: middle;\n",
       "    }\n",
       "\n",
       "    .dataframe tbody tr th {\n",
       "        vertical-align: top;\n",
       "    }\n",
       "\n",
       "    .dataframe thead th {\n",
       "        text-align: right;\n",
       "    }\n",
       "</style>\n",
       "<table border=\"1\" class=\"dataframe\">\n",
       "  <thead>\n",
       "    <tr style=\"text-align: right;\">\n",
       "      <th></th>\n",
       "      <th>Original</th>\n",
       "      <th>Influential removed</th>\n",
       "    </tr>\n",
       "  </thead>\n",
       "  <tbody>\n",
       "    <tr>\n",
       "      <th>SqFtTotLiving</th>\n",
       "      <td>209.602346</td>\n",
       "      <td>230.052569</td>\n",
       "    </tr>\n",
       "    <tr>\n",
       "      <th>SqFtLot</th>\n",
       "      <td>38.933315</td>\n",
       "      <td>33.141600</td>\n",
       "    </tr>\n",
       "    <tr>\n",
       "      <th>Bathrooms</th>\n",
       "      <td>2282.264145</td>\n",
       "      <td>-16131.879785</td>\n",
       "    </tr>\n",
       "    <tr>\n",
       "      <th>Bedrooms</th>\n",
       "      <td>-26320.268796</td>\n",
       "      <td>-22887.865318</td>\n",
       "    </tr>\n",
       "    <tr>\n",
       "      <th>BldgGrade</th>\n",
       "      <td>130000.099737</td>\n",
       "      <td>114870.559737</td>\n",
       "    </tr>\n",
       "    <tr>\n",
       "      <th>const</th>\n",
       "      <td>-772549.862447</td>\n",
       "      <td>-647137.096716</td>\n",
       "    </tr>\n",
       "  </tbody>\n",
       "</table>\n",
       "</div>"
      ],
      "text/plain": [
       "                    Original  Influential removed\n",
       "SqFtTotLiving     209.602346           230.052569\n",
       "SqFtLot            38.933315            33.141600\n",
       "Bathrooms        2282.264145        -16131.879785\n",
       "Bedrooms       -26320.268796        -22887.865318\n",
       "BldgGrade      130000.099737        114870.559737\n",
       "const         -772549.862447       -647137.096716"
      ]
     },
     "execution_count": 37,
     "metadata": {},
     "output_type": "execute_result"
    }
   ],
   "source": [
    "# 전체 데이터를 모두 사용 했을 때의 회귀 결과와 가장 영향력이 큰 데이터들(쿡의 거리>0.08)을 제외하고 얻은 회귀 결과를 비교한다.\n",
    "# Bathrooms 변수의 회귀계수가 엄청나게 변화하는 것을 볼 수 있다.\n",
    "mask = [dist < .08 for dist in influence.cooks_distance[0]]\n",
    "house_infl = house_98105.loc[mask]\n",
    "\n",
    "ols_infl = sm.OLS(house_infl[outcome], house_infl[predictors].assign(const=1))\n",
    "result_infl = ols_infl.fit()\n",
    "\n",
    "pd.DataFrame({\n",
    "    'Original': result_98105.params,\n",
    "    'Influential removed': result_infl.params,\n",
    "})"
   ]
  },
  {
   "cell_type": "markdown",
   "id": "24b6ebe2",
   "metadata": {},
   "source": [
    "### 이분산성\n",
    "- 이분산성은 다양한 범위의 예측값에 따라 잔차의 분산이 일정하지 않은 것"
   ]
  },
  {
   "cell_type": "code",
   "execution_count": 38,
   "id": "03aa1148",
   "metadata": {},
   "outputs": [
    {
     "data": {
      "image/png": "[encoded data removed]",
      "text/plain": [
       "<Figure size 360x360 with 1 Axes>"
      ]
     },
     "metadata": {
      "needs_background": "light"
     },
     "output_type": "display_data"
    }
   ],
   "source": [
    "# 잔차의 절댓값과 예측값에 관한 산점도\n",
    "# 잔차의 분산은 고가의 주택일 수록 증가하는 경향이 있다. 가격이 낮은 주택의 경우에도 마찬가지로 큰편이다.\n",
    "# 이를 통해, 회귀모형 lm_98105는 이분산성 오차를 갖고 있다고 볼 수 있다.\n",
    "fig, ax = plt.subplots(figsize=(5, 5))\n",
    "sns.regplot(x=result_98105.fittedvalues, y=np.abs(result_98105.resid), \n",
    "            scatter_kws={'alpha': 0.25},\n",
    "            line_kws={'color': 'C1'},\n",
    "            lowess=True, ax=ax)\n",
    "ax.set_xlabel('predicted')\n",
    "ax.set_ylabel('abs(residual)')\n",
    "\n",
    "plt.tight_layout()\n",
    "plt.show()"
   ]
  },
  {
   "cell_type": "markdown",
   "id": "fbaa7ca1",
   "metadata": {},
   "source": [
    "### 표준화잔차"
   ]
  },
  {
   "cell_type": "code",
   "execution_count": 39,
   "id": "2ccb8503",
   "metadata": {},
   "outputs": [
    {
     "data": {
      "image/png": "[encoded data removed]",
      "text/plain": [
       "<Figure size 288x288 with 1 Axes>"
      ]
     },
     "metadata": {
      "needs_background": "light"
     },
     "output_type": "display_data"
    }
   ],
   "source": [
    "# 회귀모형에서 표준화잔차에 대한 히스토그램\n",
    "# 정규분포보다 확연히 더 긴 꼬리를 가지며, 더 큰 잔차에 대해 약간의 왜곡을 보인다.\n",
    "fig, ax = plt.subplots(figsize=(4, 4))\n",
    "pd.Series(influence.resid_studentized_internal).hist(ax=ax)\n",
    "ax.set_xlabel('std. residual')\n",
    "ax.set_ylabel('Frequency')\n",
    "\n",
    "\n",
    "plt.tight_layout()\n",
    "plt.show()"
   ]
  },
  {
   "cell_type": "markdown",
   "id": "738d0eac",
   "metadata": {},
   "source": [
    "### 오차 간 상관\n",
    "- 오차가 독립적이라는 가정을 점검하기도 한다.\n",
    "- 시계열 데이터를 다루는 회귀분석에서 유의미한 자기상관이 있는지를 탐지하는 데에는 더빈-왓슨 통계량(Durbin-Watson statistic)을 사용할 수 있다.\n",
    "- 만약 회귀모형 오차들 간에 상관관계가 있는 경우, 이 정보는 단기 예측에 유용할 수 있으며, 모델을 만들 때 함께 고려해야한다.\n",
    "- 회귀모형을 평가할 때는 두 변수 사이의 관계를 시각적으로 강조하기 위해 산점도 평활기를 사용하는 것이 좋다."
   ]
  },
  {
   "cell_type": "markdown",
   "id": "d7b79a44",
   "metadata": {},
   "source": [
    "### 편잔차그림과 비선형성\n",
    "- 편잔차그림은 예측 모델이 예측변수와 결과변수 간의 관계를 얼마나 잘 설명하는지 시각화하는 방법이다.\n",
    "- 편잔차그림의 기본 개념은 하나의 예측변수와 응답변수 사이의 관계를 모든 다른 예측변수로부터 분리하는 것이다.\n",
    "- 편잔차는 단일 예측변수를 기반으로 한 예측값과 전체를 고려한 회귀식의 실제 잔차를 결합하여 '만든 결과'라고 할 수 있다."
   ]
  },
  {
   "cell_type": "code",
   "execution_count": 40,
   "id": "1bf67e4f",
   "metadata": {
    "scrolled": true
   },
   "outputs": [
    {
     "data": {
      "image/png": "[encoded data removed]",
      "text/plain": [
       "<Figure size 360x360 with 1 Axes>"
      ]
     },
     "metadata": {
      "needs_background": "light"
     },
     "output_type": "display_data"
    }
   ],
   "source": [
    "fig, ax = plt.subplots(figsize=(5, 5))\n",
    "fig = sm.graphics.plot_ccpr(result_98105, 'SqFtTotLiving', ax=ax)\n",
    "\n",
    "plt.tight_layout()\n",
    "plt.show()"
   ]
  },
  {
   "cell_type": "code",
   "execution_count": 41,
   "id": "47370af3",
   "metadata": {},
   "outputs": [
    {
     "data": {
      "image/png": "[encoded data removed]",
      "text/plain": [
       "<Figure size 576x864 with 5 Axes>"
      ]
     },
     "metadata": {
      "needs_background": "light"
     },
     "output_type": "display_data"
    }
   ],
   "source": [
    "fig = plt.figure(figsize=(8, 12))\n",
    "fig = sm.graphics.plot_ccpr_grid(result_98105, fig=fig)"
   ]
  },
  {
   "cell_type": "markdown",
   "id": "5536c89c",
   "metadata": {},
   "source": [
    "### 다항회귀와 스플라인 회귀\n",
    "- 다항회귀(polynomial regression) : 회귀모형에 다항식(제곱, 세제곱 등) 항을 추가한 방식\n",
    "- 스플라인 회귀 : 다항 구간들을 부드러운 곡선 형태로 피팅한다.\n",
    "- 매듭 : 스플라인 구간을 구분하는 값들\n",
    "- 일반화가법모형(GAM, generalized additive model) : 자동으로 구간을 결정하는 스플라인 모델"
   ]
  },
  {
   "cell_type": "markdown",
   "id": "56e6ce7c",
   "metadata": {},
   "source": [
    "### 다항식\n",
    "- 다항회귀란, 회귀식에 다항 항을 포함한 것을 말한다."
   ]
  },
  {
   "cell_type": "code",
   "execution_count": 42,
   "id": "e68839dc",
   "metadata": {},
   "outputs": [
    {
     "name": "stdout",
     "output_type": "stream",
     "text": [
      "                            OLS Regression Results                            \n",
      "==============================================================================\n",
      "Dep. Variable:           AdjSalePrice   R-squared:                       0.806\n",
      "Model:                            OLS   Adj. R-squared:                  0.802\n",
      "Method:                 Least Squares   F-statistic:                     211.6\n",
      "Date:                Thu, 09 Nov 2023   Prob (F-statistic):          9.95e-106\n",
      "Time:                        16:56:16   Log-Likelihood:                -4217.9\n",
      "No. Observations:                 313   AIC:                             8450.\n",
      "Df Residuals:                     306   BIC:                             8476.\n",
      "Df Model:                           6                                         \n",
      "Covariance Type:            nonrobust                                         \n",
      "==============================================================================================\n",
      "                                 coef    std err          t      P>|t|      [0.025      0.975]\n",
      "----------------------------------------------------------------------------------------------\n",
      "Intercept                  -6.159e+05   1.03e+05     -5.953      0.000   -8.19e+05   -4.12e+05\n",
      "SqFtTotLiving                  7.4521     55.418      0.134      0.893    -101.597     116.501\n",
      "np.power(SqFtTotLiving, 2)     0.0388      0.010      4.040      0.000       0.020       0.058\n",
      "SqFtLot                       32.5594      5.436      5.990      0.000      21.863      43.256\n",
      "Bathrooms                  -1435.1231   1.95e+04     -0.074      0.941   -3.99e+04     3.7e+04\n",
      "Bedrooms                   -9191.9441   1.33e+04     -0.693      0.489   -3.53e+04    1.69e+04\n",
      "BldgGrade                   1.357e+05   1.49e+04      9.087      0.000    1.06e+05    1.65e+05\n",
      "==============================================================================\n",
      "Omnibus:                       75.161   Durbin-Watson:                   1.625\n",
      "Prob(Omnibus):                  0.000   Jarque-Bera (JB):              637.978\n",
      "Skew:                           0.699   Prob(JB):                    2.92e-139\n",
      "Kurtosis:                       9.853   Cond. No.                     7.37e+07\n",
      "==============================================================================\n",
      "\n",
      "Notes:\n",
      "[1] Standard Errors assume that the covariance matrix of the errors is correctly specified.\n",
      "[2] The condition number is large, 7.37e+07. This might indicate that there are\n",
      "strong multicollinearity or other numerical problems.\n"
     ]
    }
   ],
   "source": [
    "model_poly = smf.ols(formula='AdjSalePrice ~  SqFtTotLiving + np.power(SqFtTotLiving, 2) + ' + \n",
    "                'SqFtLot + Bathrooms + Bedrooms + BldgGrade', data=house_98105)\n",
    "result_poly = model_poly.fit()\n",
    "print(result_poly.summary())"
   ]
  },
  {
   "cell_type": "code",
   "execution_count": 43,
   "id": "b546a737",
   "metadata": {},
   "outputs": [
    {
     "data": {
      "image/png": "[encoded data removed]",
      "text/plain": [
       "<Figure size 360x360 with 1 Axes>"
      ]
     },
     "metadata": {
      "needs_background": "light"
     },
     "output_type": "display_data"
    },
    {
     "name": "stdout",
     "output_type": "stream",
     "text": [
      "0.03879128168236527\n"
     ]
    }
   ],
   "source": [
    "# SqFtTotLiving 변수에 대한 다항회귀 결과(실선)와 평활곡선(점선)\n",
    "def partialResidualPlot(model, df, outcome, feature, ax):\n",
    "    y_pred = model.predict(df)\n",
    "    copy_df = df.copy()\n",
    "    for c in copy_df.columns:\n",
    "        if c == feature:\n",
    "            continue\n",
    "        copy_df[c] = 0.0\n",
    "    feature_prediction = model.predict(copy_df)\n",
    "    results = pd.DataFrame({\n",
    "        'feature': df[feature],\n",
    "        'residual': df[outcome] - y_pred,\n",
    "        'ypartial': feature_prediction - model.params[0],\n",
    "    })\n",
    "    results = results.sort_values(by=['feature'])\n",
    "    smoothed = sm.nonparametric.lowess(results.ypartial, results.feature, frac=1/3)\n",
    "    \n",
    "    ax.scatter(results.feature, results.ypartial + results.residual)\n",
    "    ax.plot(smoothed[:, 0], smoothed[:, 1], color='gray')\n",
    "    ax.plot(results.feature, results.ypartial, color='black')\n",
    "    ax.set_xlabel(feature)\n",
    "    ax.set_ylabel(f'Residual + {feature} contribution')\n",
    "    return ax\n",
    "\n",
    "fig, ax = plt.subplots(figsize=(5, 5))\n",
    "partialResidualPlot(result_poly, house_98105, 'AdjSalePrice', 'SqFtTotLiving', ax)\n",
    "\n",
    "plt.tight_layout()\n",
    "plt.show()\n",
    "print(result_poly.params[2])"
   ]
  },
  {
   "cell_type": "markdown",
   "id": "1b75d95d",
   "metadata": {},
   "source": [
    "### 스플라인\n",
    "- 스플라인은 고정된 점들 사이를 부드럽게 보간하는 방법을 말한다. \n",
    "- 구간별 다항식은 예측변수를 위한 일련의 고정된 점(매듭) 사이를 부드럽게 연결한다."
   ]
  },
  {
   "cell_type": "code",
   "execution_count": 44,
   "id": "061215e7",
   "metadata": {},
   "outputs": [
    {
     "name": "stdout",
     "output_type": "stream",
     "text": [
      "                            OLS Regression Results                            \n",
      "==============================================================================\n",
      "Dep. Variable:           AdjSalePrice   R-squared:                       0.814\n",
      "Model:                            OLS   Adj. R-squared:                  0.807\n",
      "Method:                 Least Squares   F-statistic:                     131.8\n",
      "Date:                Thu, 09 Nov 2023   Prob (F-statistic):          7.10e-104\n",
      "Time:                        18:00:52   Log-Likelihood:                -4211.4\n",
      "No. Observations:                 313   AIC:                             8445.\n",
      "Df Residuals:                     302   BIC:                             8486.\n",
      "Df Model:                          10                                         \n",
      "Covariance Type:            nonrobust                                         \n",
      "========================================================================================================\n",
      "                                           coef    std err          t      P>|t|      [0.025      0.975]\n",
      "--------------------------------------------------------------------------------------------------------\n",
      "Intercept                            -4.142e+05   1.43e+05     -2.899      0.004   -6.95e+05   -1.33e+05\n",
      "bs(SqFtTotLiving, df=6, degree=3)[0] -1.995e+05   1.86e+05     -1.076      0.283   -5.65e+05    1.66e+05\n",
      "bs(SqFtTotLiving, df=6, degree=3)[1] -1.206e+05   1.23e+05     -0.983      0.326   -3.62e+05    1.21e+05\n",
      "bs(SqFtTotLiving, df=6, degree=3)[2] -7.164e+04   1.36e+05     -0.525      0.600    -3.4e+05    1.97e+05\n",
      "bs(SqFtTotLiving, df=6, degree=3)[3]  1.957e+05   1.62e+05      1.212      0.227   -1.22e+05    5.14e+05\n",
      "bs(SqFtTotLiving, df=6, degree=3)[4]  8.452e+05   2.18e+05      3.878      0.000    4.16e+05    1.27e+06\n",
      "bs(SqFtTotLiving, df=6, degree=3)[5]  6.955e+05   2.14e+05      3.255      0.001    2.75e+05    1.12e+06\n",
      "SqFtLot                                 33.3258      5.454      6.110      0.000      22.592      44.059\n",
      "Bathrooms                            -4778.2080   1.94e+04     -0.246      0.806    -4.3e+04    3.34e+04\n",
      "Bedrooms                             -5778.7045   1.32e+04     -0.437      0.663   -3.18e+04    2.03e+04\n",
      "BldgGrade                             1.345e+05   1.52e+04      8.842      0.000    1.05e+05    1.64e+05\n",
      "==============================================================================\n",
      "Omnibus:                       58.816   Durbin-Watson:                   1.633\n",
      "Prob(Omnibus):                  0.000   Jarque-Bera (JB):              622.021\n",
      "Skew:                           0.330   Prob(JB):                    8.51e-136\n",
      "Kurtosis:                       9.874   Cond. No.                     1.97e+05\n",
      "==============================================================================\n",
      "\n",
      "Notes:\n",
      "[1] Standard Errors assume that the covariance matrix of the errors is correctly specified.\n",
      "[2] The condition number is large, 1.97e+05. This might indicate that there are\n",
      "strong multicollinearity or other numerical problems.\n"
     ]
    }
   ],
   "source": [
    "formula = ('AdjSalePrice ~ bs(SqFtTotLiving, df=6, degree=3) + ' + \n",
    "           'SqFtLot + Bathrooms + Bedrooms + BldgGrade')\n",
    "model_spline = smf.ols(formula=formula, data=house_98105)\n",
    "result_spline = model_spline.fit()\n",
    "print(result_spline.summary())"
   ]
  },
  {
   "cell_type": "code",
   "execution_count": 45,
   "id": "3ae159df",
   "metadata": {},
   "outputs": [
    {
     "data": {
      "image/png": "[encoded data removed]",
      "text/plain": [
       "<Figure size 360x360 with 1 Axes>"
      ]
     },
     "metadata": {
      "needs_background": "light"
     },
     "output_type": "display_data"
    }
   ],
   "source": [
    "fig, ax = plt.subplots(figsize=(5, 5))\n",
    "partialResidualPlot(result_spline, house_98105, 'AdjSalePrice', 'SqFtTotLiving', ax)\n",
    "\n",
    "plt.tight_layout()\n",
    "plt.show()"
   ]
  },
  {
   "cell_type": "markdown",
   "id": "4f5d6ae7",
   "metadata": {},
   "source": [
    "### 일반화가법모형\n",
    "- 사전 지식이나 회귀진단을 통해 응답변수와 예측변수 사이에 비선형 관계가 있다는 것을 알았다고 하자.\n",
    "- 다항항은  관계를 포착하기에 유연성이 부족할 수 있으며, 스플라인 항은 매듭을 어디로 할지 정해줘야한다.\n",
    "- GAM(일반화가법모형)은 스플라인 회귀를 자동으로 찾는데 사용할 수 있는 유동적인 모델링 기술이다."
   ]
  },
  {
   "cell_type": "code",
   "execution_count": 46,
   "id": "d2376dbf",
   "metadata": {},
   "outputs": [
    {
     "name": "stdout",
     "output_type": "stream",
     "text": [
      "                 Generalized Linear Model Regression Results                  \n",
      "==============================================================================\n",
      "Dep. Variable:           AdjSalePrice   No. Observations:                  313\n",
      "Model:                         GLMGam   Df Residuals:                   295.00\n",
      "Model Family:                Gaussian   Df Model:                        17.00\n",
      "Link Function:               identity   Scale:                      2.7471e+10\n",
      "Method:                         PIRLS   Log-Likelihood:                -4196.6\n",
      "Date:                Thu, 09 Nov 2023   Deviance:                   8.1039e+12\n",
      "Time:                        18:04:26   Pearson chi2:                 8.10e+12\n",
      "No. Iterations:                     3                                         \n",
      "Covariance Type:            nonrobust                                         \n",
      "====================================================================================\n",
      "                       coef    std err          z      P>|z|      [0.025      0.975]\n",
      "------------------------------------------------------------------------------------\n",
      "Intercept        -3.481e+05   1.18e+05     -2.962      0.003   -5.79e+05   -1.18e+05\n",
      "SqFtTotLiving      192.1472     50.663      3.793      0.000      92.849     291.446\n",
      "SqFtLot              6.9002      7.654      0.902      0.367      -8.101      21.902\n",
      "Bathrooms        -7836.2808   2.12e+04     -0.370      0.712   -4.94e+04    3.37e+04\n",
      "Bedrooms         -8297.4370   1.26e+04     -0.660      0.509   -3.29e+04    1.63e+04\n",
      "BldgGrade         1.014e+05    1.4e+04      7.249      0.000     7.4e+04    1.29e+05\n",
      "SqFtTotLiving_s0  1.465e+05   2.34e+05      0.626      0.531   -3.12e+05    6.05e+05\n",
      "SqFtTotLiving_s1 -6.174e+04   1.33e+05     -0.464      0.642   -3.22e+05    1.99e+05\n",
      "SqFtTotLiving_s2 -3.186e+04   1.26e+05     -0.253      0.800   -2.78e+05    2.15e+05\n",
      "SqFtTotLiving_s3 -5.403e+04   1.01e+05     -0.535      0.593   -2.52e+05    1.44e+05\n",
      "SqFtTotLiving_s4 -1.182e+05   1.01e+05     -1.167      0.243   -3.17e+05    8.03e+04\n",
      "SqFtTotLiving_s5 -1.295e+05   8.23e+04     -1.574      0.115   -2.91e+05    3.17e+04\n",
      "SqFtTotLiving_s6 -3.014e+04   1.27e+05     -0.237      0.813    -2.8e+05     2.2e+05\n",
      "SqFtTotLiving_s7  1.262e+05    1.8e+05      0.702      0.483   -2.26e+05    4.79e+05\n",
      "SqFtTotLiving_s8  5.325e+04   1.38e+05      0.386      0.700   -2.17e+05    3.24e+05\n",
      "SqFtLot_s0        5.775e+05   1.58e+05      3.651      0.000    2.68e+05    8.88e+05\n",
      "SqFtLot_s1       -2.771e+05   7.86e+04     -3.526      0.000   -4.31e+05   -1.23e+05\n",
      "Bathrooms_s0      3.723e+04   1.06e+05      0.351      0.726   -1.71e+05    2.45e+05\n",
      "Bathrooms_s1      5.303e+04   5.94e+04      0.892      0.372   -6.35e+04     1.7e+05\n",
      "Bedrooms_s0       2.298e+05   1.31e+05      1.751      0.080   -2.74e+04    4.87e+05\n",
      "Bedrooms_s1      -7.241e+04   6.81e+04     -1.063      0.288   -2.06e+05    6.11e+04\n",
      "BldgGrade_s0     -7.953e+05   2.03e+05     -3.917      0.000   -1.19e+06   -3.97e+05\n",
      "BldgGrade_s1      6.608e+05   1.14e+05      5.818      0.000    4.38e+05    8.83e+05\n",
      "====================================================================================\n"
     ]
    }
   ],
   "source": [
    "from statsmodels.gam.api import GLMGam, BSplines\n",
    "\n",
    "predictors = ['SqFtTotLiving', 'SqFtLot', 'Bathrooms', 'Bedrooms', 'BldgGrade']\n",
    "outcome = 'AdjSalePrice'\n",
    "\n",
    "x_spline = house_98105[predictors]\n",
    "bs = BSplines(x_spline, df=[10] + [3] * 4, degree=[3] + [2] * 4)\n",
    "# penalization weight\n",
    "alpha = np.array([0] * 5)\n",
    "\n",
    "formula = ('AdjSalePrice ~ SqFtTotLiving + ' + \n",
    "           'SqFtLot + Bathrooms + Bedrooms + BldgGrade')\n",
    "\n",
    "gam_sm = GLMGam.from_formula(formula, data=house_98105, smoother=bs, alpha=alpha)\n",
    "res_sm = gam_sm.fit()\n",
    "print(res_sm.summary())"
   ]
  },
  {
   "cell_type": "code",
   "execution_count": 47,
   "id": "7e693f19",
   "metadata": {},
   "outputs": [
    {
     "name": "stderr",
     "output_type": "stream",
     "text": [
      "100% (11 of 11) |########################| Elapsed Time: 0:00:00 Time:  0:00:00\n"
     ]
    },
    {
     "name": "stdout",
     "output_type": "stream",
     "text": [
      "LinearGAM                                                                                                 \n",
      "=============================================== ==========================================================\n",
      "Distribution:                        NormalDist Effective DoF:                                      7.6772\n",
      "Link Function:                     IdentityLink Log Likelihood:                                 -7833.1159\n",
      "Number of Samples:                          313 AIC:                                            15683.5863\n",
      "                                                AICc:                                             15684.14\n",
      "                                                GCV:                                      30838885095.1686\n",
      "                                                Scale:                                    29480381715.8302\n",
      "                                                Pseudo R-Squared:                                   0.8117\n",
      "==========================================================================================================\n",
      "Feature Function                  Lambda               Rank         EDoF         P > x        Sig. Code   \n",
      "================================= ==================== ============ ============ ============ ============\n",
      "s(0)                              [15.8489]            12           4.3          1.11e-16     ***         \n",
      "l(1)                              [15.8489]            1            0.9          2.35e-10     ***         \n",
      "l(2)                              [15.8489]            1            0.8          8.45e-01                 \n",
      "l(3)                              [15.8489]            1            0.9          3.79e-01                 \n",
      "l(4)                              [15.8489]            1            0.8          1.11e-16     ***         \n",
      "intercept                                              1            0.0          9.14e-01                 \n",
      "==========================================================================================================\n",
      "Significance codes:  0 '***' 0.001 '**' 0.01 '*' 0.05 '.' 0.1 ' ' 1\n",
      "\n",
      "WARNING: Fitting splines and a linear function to a feature introduces a model identifiability problem\n",
      "         which can cause p-values to appear significant when they are not.\n",
      "\n",
      "WARNING: p-values calculated in this manner behave correctly for un-penalized models or models with\n",
      "         known smoothing parameters, but when smoothing parameters have been estimated, the p-values\n",
      "         are typically lower than they should be, meaning that the tests reject the null too readily.\n",
      "None\n"
     ]
    },
    {
     "name": "stderr",
     "output_type": "stream",
     "text": [
      "<ipython-input-47-2454e06428fa>:10: UserWarning: KNOWN BUG: p-values computed in this summary are likely much smaller than they should be. \n",
      " \n",
      "Please do not make inferences based on these values! \n",
      "\n",
      "Collaborate on a solution, and stay up to date at: \n",
      "github.com/dswah/pyGAM/issues/163 \n",
      "\n",
      "  print(gam.summary())\n"
     ]
    }
   ],
   "source": [
    "# pyGAM\n",
    "predictors = ['SqFtTotLiving', 'SqFtLot', 'Bathrooms', \n",
    "              'Bedrooms', 'BldgGrade']\n",
    "outcome = 'AdjSalePrice'\n",
    "X = house_98105[predictors].values\n",
    "y = house_98105[outcome]\n",
    "\n",
    "## model\n",
    "gam = LinearGAM(s(0, n_splines=12) + l(1) + l(2) + l(3) + l(4))\n",
    "gam.gridsearch(X, y)\n",
    "print(gam.summary())"
   ]
  },
  {
   "cell_type": "code",
   "execution_count": 48,
   "id": "60a2df6d",
   "metadata": {},
   "outputs": [
    {
     "data": {
      "image/png": "[encoded data removed]",
      "text/plain": [
       "<Figure size 576x576 with 6 Axes>"
      ]
     },
     "metadata": {
      "needs_background": "light"
     },
     "output_type": "display_data"
    }
   ],
   "source": [
    "fig, axes = plt.subplots(figsize=(8, 8), ncols=2, nrows=3)\n",
    "\n",
    "titles = ['SqFtTotLiving', 'SqFtLot', 'Bathrooms', 'Bedrooms', 'BldgGrade']\n",
    "for i, title in enumerate(titles):\n",
    "    ax = axes[i // 2, i % 2]\n",
    "    XX = gam.generate_X_grid(term=i)\n",
    "    ax.plot(XX[:, i], gam.partial_dependence(term=i, X=XX))\n",
    "    ax.plot(XX[:, i], gam.partial_dependence(term=i, X=XX, width=.95)[1], c='r', ls='--')\n",
    "    ax.set_title(titles[i]);\n",
    "    \n",
    "axes[2][1].set_visible(False)\n",
    "\n",
    "plt.tight_layout()\n",
    "plt.show()"
   ]
  },
  {
   "cell_type": "markdown",
   "id": "7e89586f",
   "metadata": {},
   "source": [
    "- 회귀분석에서 특잇값은 잔차가 큰 레코드를 말한다.\n",
    "- 다중공선성은 회귀방정식을 피팅할 때 수치 불안정성을 가져올 수 있다.\n",
    "- 교란변수는 모델에서 생략된 중요한 예측변수이며 허위 관계를 보여주는 회귀 결과를 낳을 수 있다.\n",
    "- 한 변수의 효과가 다른 변수의 수준에 영향을 받는다면 두 변수 사이의 상호작용을 고려할 항이 필요하다.\n",
    "- 다항회귀분석은 예측변수와 결과변수 간의 비선형 관계를 검증할 수 있다.\n",
    "- 스플라인은 매듭들로 함꼐 묶여 있는 일련의 구간별 다항식을 말한다.\n",
    "- 일반화가법모형(GAM)을 사용하여 스플라인의 매듭을 자동으로 결정할 수 있다."
   ]
  },
  {
   "cell_type": "code",
   "execution_count": null,
   "id": "e71fb3dd",
   "metadata": {},
   "outputs": [],
   "source": []
  }
 ],
 "metadata": {
  "kernelspec": {
   "display_name": "Python 3",
   "language": "python",
   "name": "python3"
  },
  "language_info": {
   "codemirror_mode": {
    "name": "ipython",
    "version": 3
   },
   "file_extension": ".py",
   "mimetype": "text/x-python",
   "name": "python",
   "nbconvert_exporter": "python",
   "pygments_lexer": "ipython3",
   "version": "3.8.8"
  }
 },
 "nbformat": 4,
 "nbformat_minor": 5
}
