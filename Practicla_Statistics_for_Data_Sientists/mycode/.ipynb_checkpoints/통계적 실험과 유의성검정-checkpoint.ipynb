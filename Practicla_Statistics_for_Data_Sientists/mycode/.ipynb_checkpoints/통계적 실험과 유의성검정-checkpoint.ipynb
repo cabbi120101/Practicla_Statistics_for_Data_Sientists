{
 "cells": [
  {
   "cell_type": "markdown",
   "id": "8555952f",
   "metadata": {},
   "source": [
    "#### 세팅"
   ]
  },
  {
   "cell_type": "code",
   "execution_count": 1,
   "id": "3fec0a2b",
   "metadata": {},
   "outputs": [],
   "source": [
    "%matplotlib inline\n",
    "\n",
    "from pathlib import Path\n",
    "import random\n",
    "\n",
    "import pandas as pd\n",
    "import numpy as np\n",
    "\n",
    "from scipy import stats\n",
    "import statsmodels.api as sm\n",
    "import statsmodels.formula.api as smf\n",
    "from statsmodels.stats import power\n",
    "\n",
    "import matplotlib.pylab as plt"
   ]
  },
  {
   "cell_type": "code",
   "execution_count": 2,
   "id": "cfa3e0a4",
   "metadata": {},
   "outputs": [],
   "source": [
    "try:\n",
    "    import common\n",
    "    DATA = common.dataDirectory()\n",
    "except ImportError:\n",
    "    DATA = Path().resolve() / 'data'"
   ]
  },
  {
   "cell_type": "code",
   "execution_count": 3,
   "id": "3869586f",
   "metadata": {},
   "outputs": [],
   "source": [
    "WEB_PAGE_DATA_CSV = DATA / 'web_page_data.csv'\n",
    "FOUR_SESSIONS_CSV = DATA / 'four_sessions.csv'\n",
    "CLICK_RATE_CSV = DATA / 'click_rates.csv'\n",
    "IMANISHI_CSV = DATA / 'imanishi_data.csv'"
   ]
  },
  {
   "cell_type": "markdown",
   "id": "f336c5b7",
   "metadata": {},
   "source": [
    "전형적인 통계 추론 과정\n",
    "- 가설을 세운다 > 실험을 설계한다 > 데이터를 수집한다 > 추론 및 결론을 도출한다"
   ]
  },
  {
   "cell_type": "markdown",
   "id": "a2b1b623",
   "metadata": {},
   "source": [
    "### A/B 검정\n",
    "- 처리(treatment) : 어떤 대상에 주어지는 특별한 환경이나 조건(약, 가격, 인터넷 뉴스 제목)\n",
    "- 처리군(처리 그룹, treatment group) : 특정 처리에 노출된 대상들의 집단\n",
    "- 대조군(대조 그룹, control group) : 어떤 처리도 하지 않은 대상들의 집단\n",
    "- 임의화(랜덤화, randomization) : 처리를 적용할 대상을 임의로 결정하는 과정\n",
    "- 대상(subject) : 처리를 적용할 개체 대상(유의어 : 피실험자)\n",
    "- 검정통계량(test statistic) : 처리 효과를 측정하기 위한 지표 , 일반적으로 상용되는 지표는 이진변수이다(클릭/클릭하지 않음)\n",
    "- 측정 지표가 연속형 변수(구매액,수익 등)인지 횟수를 나타내는 변수(입원 일수, 방문한 페이지수)인지에 따라, 결과가 다르게 표시 될 수 있다."
   ]
  },
  {
   "cell_type": "markdown",
   "id": "dcdfdc6f",
   "metadata": {},
   "source": [
    "### 가설검정, 유의성검정\n",
    "- 귀무가설(null hypothesis) : 우연 때문이라는 가설(유의어:영가설)\n",
    "- 대립가설(alternative hypothesis) : 귀무가설과의 대조(증명하고자하는 가설)\n",
    "- 일원검정(one-way test) : 한방향으로만 우연히 일어날 확률을 계산하는 가설검정/우연에 의한 극단적인 결과에 대해 한방향만을 고려하여 P값을 계산한다.\n",
    "- 이원검정(two-way test) : 양방향으로 우연히 일어날 확률을 계산하는 가설검정 / 어느쪽으로도 속지 않도록 가설검정을 원한다면 대립가설은 양방향이 된다. A는 B와 다르며 더 크거나 작을 수 있음.\n",
    "- 가설검정은 귀무가설이 틀렸다는 것을 입증해서, A그룹과 B그룹 간의 차이가 우연이 아니라는 것을 보여주는 것이다."
   ]
  },
  {
   "cell_type": "markdown",
   "id": "14d2e387",
   "metadata": {},
   "source": [
    "### 순열검정\n",
    "- 그룹A와 그룹B의 결과를 하나로 합친다. 이것은 그룹들에 적용된 처리의 결과가 다르지 않다는 귀무가설을 논리적으로 구체화한 것이다.\n",
    "- 그런 다음 결합된 집합에서 무작위로 그룹을 뽑아 그 가설을 검정하고 서로 얼마나 다른지 살핀다.\n",
    "- 관찰된 차이가 대부분의 순열분포 바깥에 있다면, 우연이 아니기 때문에 통계적으로 유의미하다."
   ]
  },
  {
   "cell_type": "markdown",
   "id": "b5da4356",
   "metadata": {},
   "source": [
    "- 대리변수 : 참된 관심 변수를 대신하는 변수. 관심 변수를 직접 얻을 수 없거나 측정하는데 많은 비용이나 시간이 소요될 경우 이를 대체하여 사용."
   ]
  },
  {
   "cell_type": "code",
   "execution_count": 48,
   "id": "3731b1a0",
   "metadata": {
    "scrolled": false
   },
   "outputs": [
    {
     "data": {
      "text/html": [
       "<div>\n",
       "<style scoped>\n",
       "    .dataframe tbody tr th:only-of-type {\n",
       "        vertical-align: middle;\n",
       "    }\n",
       "\n",
       "    .dataframe tbody tr th {\n",
       "        vertical-align: top;\n",
       "    }\n",
       "\n",
       "    .dataframe thead th {\n",
       "        text-align: right;\n",
       "    }\n",
       "</style>\n",
       "<table border=\"1\" class=\"dataframe\">\n",
       "  <thead>\n",
       "    <tr style=\"text-align: right;\">\n",
       "      <th></th>\n",
       "      <th>Page</th>\n",
       "      <th>Time</th>\n",
       "    </tr>\n",
       "  </thead>\n",
       "  <tbody>\n",
       "    <tr>\n",
       "      <th>0</th>\n",
       "      <td>Page A</td>\n",
       "      <td>21.0</td>\n",
       "    </tr>\n",
       "    <tr>\n",
       "      <th>1</th>\n",
       "      <td>Page B</td>\n",
       "      <td>253.0</td>\n",
       "    </tr>\n",
       "    <tr>\n",
       "      <th>2</th>\n",
       "      <td>Page A</td>\n",
       "      <td>35.0</td>\n",
       "    </tr>\n",
       "    <tr>\n",
       "      <th>3</th>\n",
       "      <td>Page B</td>\n",
       "      <td>71.0</td>\n",
       "    </tr>\n",
       "    <tr>\n",
       "      <th>4</th>\n",
       "      <td>Page A</td>\n",
       "      <td>67.0</td>\n",
       "    </tr>\n",
       "  </tbody>\n",
       "</table>\n",
       "</div>"
      ],
      "text/plain": [
       "     Page   Time\n",
       "0  Page A   21.0\n",
       "1  Page B  253.0\n",
       "2  Page A   35.0\n",
       "3  Page B   71.0\n",
       "4  Page A   67.0"
      ]
     },
     "execution_count": 48,
     "metadata": {},
     "output_type": "execute_result"
    }
   ],
   "source": [
    "session_times = pd.read_csv(WEB_PAGE_DATA_CSV)\n",
    "session_times.Time = 100 * session_times.Time\n",
    "session_times.head()"
   ]
  },
  {
   "cell_type": "code",
   "execution_count": 49,
   "id": "e483e8d8",
   "metadata": {},
   "outputs": [
    {
     "data": {
      "image/png": "[encoded data removed]",
      "text/plain": [
       "<Figure size 288x288 with 1 Axes>"
      ]
     },
     "metadata": {
      "needs_background": "light"
     },
     "output_type": "display_data"
    }
   ],
   "source": [
    "# 세션 시간 시각화\n",
    "ax = session_times.boxplot(by='Page', column='Time',\n",
    "                           figsize=(4, 4))\n",
    "ax.set_xlabel('')\n",
    "ax.set_ylabel('Time (in seconds)')\n",
    "plt.suptitle('')\n",
    "\n",
    "plt.tight_layout()\n",
    "plt.show()"
   ]
  },
  {
   "cell_type": "code",
   "execution_count": 50,
   "id": "f661a077",
   "metadata": {},
   "outputs": [
    {
     "name": "stdout",
     "output_type": "stream",
     "text": [
      "35.66666666666667\n"
     ]
    }
   ],
   "source": [
    "# 각 그룹의 평균\n",
    "# 페이지B는 A와 비교하여 세션 시간이 평균 35.67초 길다.\n",
    "# 이 차이가 우연에 의한 것인지 통계적으로 유의미한지 판단해야한다. > 순열검정 적용\n",
    "mean_a = session_times[session_times.Page == 'Page A'].Time.mean()\n",
    "mean_b = session_times[session_times.Page == 'Page B'].Time.mean()\n",
    "print(mean_b - mean_a)"
   ]
  },
  {
   "cell_type": "code",
   "execution_count": 51,
   "id": "bafd9a44",
   "metadata": {},
   "outputs": [
    {
     "name": "stdout",
     "output_type": "stream",
     "text": [
      "3.3238095238095298\n"
     ]
    }
   ],
   "source": [
    "# 모든 세션 시간을 결합한 다음, 잘 섞은 후 21개의 그룹(A페이지의 경우 n=21)rhk 15개의 그룹(B의 경우 n=15)로 반복하여 표본을 추출.\n",
    "# 순열검정을 구현\n",
    "def perm_fun(x, nA, nB):\n",
    "    n = nA + nB\n",
    "    # 0부터 21+15까지 중 랜덤으로 중복없이 15선택  \n",
    "    idx_B = set(random.sample(range(n), nB))\n",
    "    # 위에 선택한 값 제외한 0부터 21+15까지 값\n",
    "    idx_A = set(range(n)) - idx_B\n",
    "    #각 값의 인덱스의 평균 값 구하기\n",
    "    return x.loc[list(idx_B)].mean() - x.loc[list(idx_A)].mean()\n",
    "    \n",
    "nA = session_times[session_times.Page == 'Page A'].shape[0]\n",
    "nB = session_times[session_times.Page == 'Page B'].shape[0]\n",
    "print(perm_fun(session_times.Time, nA, nB))"
   ]
  },
  {
   "cell_type": "code",
   "execution_count": 52,
   "id": "f390e0bf",
   "metadata": {
    "scrolled": true
   },
   "outputs": [
    {
     "data": {
      "image/png": "[encoded data removed]",
      "text/plain": [
       "<Figure size 360x360 with 1 Axes>"
      ]
     },
     "metadata": {
      "needs_background": "light"
     },
     "output_type": "display_data"
    }
   ],
   "source": [
    "# 페이지A와B 사이의 세션 시간 차이에 대한 도수분포, 여기서 수직선은 관측된 차이를 보여준다.\n",
    "# 무작위 순열로 구한 평균 세션 시간의 차이가 가끔 실제 관찰된 세션 시간의 차이(수직선)를 넘어가는 걸 볼 수 있다.\n",
    "\n",
    "random.seed(1)\n",
    "perm_diffs = [perm_fun(session_times.Time, nA, nB) for _ in range(1000)]\n",
    "\n",
    "fig, ax = plt.subplots(figsize=(5, 5))\n",
    "ax.hist(perm_diffs, bins=11, rwidth=0.9)\n",
    "ax.axvline(x = mean_b - mean_a, color='black', lw=2)\n",
    "ax.text(50, 190, 'Observed\\ndifference', bbox={'facecolor':'white'})\n",
    "ax.set_xlabel('Session time differences (in seconds)')\n",
    "ax.set_ylabel('Frequency')\n",
    "\n",
    "plt.tight_layout()\n",
    "plt.show()"
   ]
  },
  {
   "cell_type": "code",
   "execution_count": 53,
   "id": "bf840078",
   "metadata": {},
   "outputs": [
    {
     "name": "stdout",
     "output_type": "stream",
     "text": [
      "0.121\n"
     ]
    }
   ],
   "source": [
    "# 세션 시간의 차이가 확률분포의 범위 내에 있음을 의미한다. 따라서 차이는 통계적으로 유의하지 않다.\n",
    "# 이것을 통해 페이지A와 페이지B의 차이인 36초가 통계적으로 봤을때는 차이가 없어도 약 12% 확률로 발생할 수 있다는 결론\n",
    "perm_diffs = np.array(perm_diffs)\n",
    "print(np.mean(perm_diffs > mean_b - mean_a))"
   ]
  },
  {
   "cell_type": "markdown",
   "id": "ae75d4c4",
   "metadata": {},
   "source": [
    "### 전체 및 부트스트랩 순열검정\n",
    "- 전체순열검정(정확검정, exact test) : 데이터를 무작위로 섞고 나누는 대신 실제로 나눌 수 있는 모든 가능한 조합을 찾는다. 샘플크기가 비교적 작을 때만 실용적이다. 셔플링을 많이 반복할수록, 임의순열검정 결과는 전체순열검정 결과와 거의 유사하게 근접한다. \n",
    "- 부트스트랩 순열검정 : 무작위 순열검정의 비복원 추출을 복원추출로 수행."
   ]
  },
  {
   "cell_type": "markdown",
   "id": "8deae503",
   "metadata": {},
   "source": [
    "### 통계적 유의성과 p값\n",
    "- p값(p-value) : 귀무가설을 구체화한 기회 모델이 주어졌을 때 관측된 결과와 같이 특이하거나 극단적인 결과를 얻을 확률\n",
    "- 알파(alpha) : 실제 결과가 통계적으로 의미 있는 것으로 간주되기 위해, 우연에 의한 결과가 능가해야 하는 '비정상적인'가능성의 임계 확률\n",
    "- 제1종 오류 : 우연에 의한 효과를 실제 효과라고 잘못 결론 내리는 것\n",
    "- 제2종 오류 : 실제 효과를 우연에 의한 효과라고 잘못 결론 내리는 것\n",
    "- 유의성검정은 관찰된 효과가 귀무가설 모형에 대한 무작위 변이의 범위 내에 있는지 결정하는데 사용된다.\n",
    "- p값은 귀무가설로부터 나올 수 있는 결과가 관찰된 결과만큼 극단적으로 나타날 확률이다.\n",
    "- 유의수준(알파)란 귀무가설 모델에서 '비정상'이라고 판단할 임곗값을 말한다."
   ]
  },
  {
   "cell_type": "code",
   "execution_count": 55,
   "id": "90087629",
   "metadata": {},
   "outputs": [
    {
     "name": "stdout",
     "output_type": "stream",
     "text": [
      "Observed difference: 0.0368%\n"
     ]
    },
    {
     "data": {
      "image/png": "[encoded data removed]",
      "text/plain": [
       "<Figure size 360x360 with 1 Axes>"
      ]
     },
     "metadata": {
      "needs_background": "light"
     },
     "output_type": "display_data"
    }
   ],
   "source": [
    "# 가격 A와 B 사이의 전환율 차이에 대한 도수분포\n",
    "# 1000개의 재표본추출 결과를 보여주는 히스토그램이다.\n",
    "# 이경우, 관측된 0.0368%의 차이는 랜덤 변이의 범위 내에 있다.\n",
    "random.seed(1)\n",
    "obs_pct_diff = 100 * (200 / 23739 - 182 / 22588)\n",
    "print(f'Observed difference: {obs_pct_diff:.4f}%')\n",
    "conversion = [0] * 45945\n",
    "conversion.extend([1] * 382)\n",
    "conversion = pd.Series(conversion)\n",
    "\n",
    "perm_diffs = [100 * perm_fun(conversion, 23739, 22588) \n",
    "              for _ in range(1000)]\n",
    "\n",
    "fig, ax = plt.subplots(figsize=(5, 5))\n",
    "ax.hist(perm_diffs, bins=11, rwidth=0.9)\n",
    "ax.axvline(x=obs_pct_diff, color='black', lw=2)\n",
    "ax.text(0.06, 200, 'Observed\\ndifference', bbox={'facecolor':'white'})\n",
    "ax.set_xlabel('Conversion rate (percent)')\n",
    "ax.set_ylabel('Frequency')\n",
    "\n",
    "plt.tight_layout()\n",
    "plt.show()"
   ]
  },
  {
   "cell_type": "code",
   "execution_count": 56,
   "id": "ce0e48e6",
   "metadata": {},
   "outputs": [
    {
     "name": "stdout",
     "output_type": "stream",
     "text": [
      "0.332\n"
     ]
    }
   ],
   "source": [
    "# 그래프를 눈으로 보는 것보다, P값과 같이 통계적 유의성을 정확히 측정히기 위한 지표가 필요하다.\n",
    "# 순열검정으로 관측된 결과 중에서, 관찰된 차이와 같거나 더 큰 차이를 보이는 경우의 비율로 p값을 추정할 수 있다.\n",
    "print(np.mean([diff > obs_pct_diff for diff in perm_diffs]))"
   ]
  },
  {
   "cell_type": "code",
   "execution_count": 57,
   "id": "3710a49c",
   "metadata": {},
   "outputs": [
    {
     "name": "stdout",
     "output_type": "stream",
     "text": [
      "p-value for single sided test: 0.3498\n"
     ]
    }
   ],
   "source": [
    "survivors = np.array([[200, 23739 - 200], [182, 22588 - 182]])\n",
    "chi2, p_value, df, _ = stats.chi2_contingency(survivors)\n",
    "\n",
    "print(f'p-value for single sided test: {p_value / 2:.4f}')"
   ]
  },
  {
   "cell_type": "markdown",
   "id": "a1ea156e",
   "metadata": {},
   "source": [
    "### t 검정\n",
    "- 검정통계량(test statistic) : 관심의 차이 또는 효과에 대한 측정 지표\n",
    "- t통계량(t-statistic) : 평균과 같이 표준화된 형태의 일반적인 검정통계량\n",
    "- t분포(t-distribution) : 관측된 t통계량을 비교할 수 있는, 귀무가설에서 파생된 기준분포"
   ]
  },
  {
   "cell_type": "code",
   "execution_count": 60,
   "id": "3f34e018",
   "metadata": {},
   "outputs": [
    {
     "name": "stdout",
     "output_type": "stream",
     "text": [
      "p-value for single sided test: 0.1408\n"
     ]
    }
   ],
   "source": [
    "res = stats.ttest_ind(session_times[session_times.Page == 'Page A'].Time, \n",
    "                      session_times[session_times.Page == 'Page B'].Time,\n",
    "                      equal_var=False)\n",
    "print(f'p-value for single sided test: {res.pvalue / 2:.4f}')"
   ]
  },
  {
   "cell_type": "code",
   "execution_count": 61,
   "id": "42d17b76",
   "metadata": {},
   "outputs": [
    {
     "name": "stdout",
     "output_type": "stream",
     "text": [
      "p-value: 0.1408\n"
     ]
    }
   ],
   "source": [
    "tstat, pvalue, df = sm.stats.ttest_ind(\n",
    "    session_times[session_times.Page == 'Page A'].Time, \n",
    "    session_times[session_times.Page == 'Page B'].Time,\n",
    "    usevar='unequal', alternative='smaller')\n",
    "print(f'p-value: {pvalue:.4f}')"
   ]
  },
  {
   "cell_type": "markdown",
   "id": "c6fc615f",
   "metadata": {},
   "source": [
    "### 다중검정\n",
    "- 제 1종 오류 : 어떤 효과가 통계적으로 유의미하다고 잘못된 결론을 내린다.\n",
    "- 거짓발견비율(FDR, false discovery rate) : 다중검정에서 1종 오류가 발생하는 비율\n",
    "- 알파 인플레이션 : 1종 오류를 만들 확률인 알파가 더 많은 테스트를 수행할수록 증가하는 다중검정 현상\n",
    "- p값 조정 : 동일한 데이터에 대해 다중검정을 수행하는 경우에 필요하다.\n",
    "- 과대적함(overfitting) : 잡음까지 피팅\n",
    "- 홀드아웃(Hold-Out)은 전통적인 데이터 분할 방법입니다. 데이터를 무작위로 학습 데이터와 테스트 데이터 두 가지로 구분한 다음, 다시 학습 데이터는 학습 데이터와 검증 데이터로 분할됩니다.\n",
    "- 다중성(다중비교, 많은 변수, 많은 모델 등)은 일부가 우연히 유의미하다는 결론을 내릴 위험을 증가시킨다.\n",
    "- 데이터 마이닝에서 라벨이 지정된 결과변수가 있는(즉, 분류결과를 알고 있는) 홀드아웃 표본을 사용하면 잘못된 결과를 피할 수 있다."
   ]
  },
  {
   "cell_type": "markdown",
   "id": "a84eedd2",
   "metadata": {},
   "source": [
    "### 자유도\n",
    "- d.f.(degrees of freedom):자유도\n",
    "- 자유도는 검정통계량을 표준화하는 계산의 일부, 이를 통해 기준분포(t분포, F분포 등)와 비교할 수 있다.\n",
    "- 자유도 개념은 회귀를 할 대 (다중공선성을 피하기 위해) 범주형 변수들을 n-1지표 혹은 더미 변수로 요일화하는 것의 이유가 된다."
   ]
  },
  {
   "cell_type": "markdown",
   "id": "0d17c2f3",
   "metadata": {},
   "source": [
    "### 분산분석\n",
    "- 분산분석(ANOVA): 여러 그룹간의 통계적으로 유의미한 차이를 검정하는 통계적 절차\n",
    "- 쌍별 비교(pairwise comparison) : 여러 그룹 중 두 그룹 간의 (예: 평균에 대한) 가설검정\n",
    "- 총괄검정(omnibus test) : 여러 그룹 평균들의 전체 분산에 관한 단일 가설검정\n",
    "- 분산분해 : 구성 요소 분리, 예를들면 전체 평균, 처리 평균, 잔차 오차로부터 개별값들에 대한 기여를 뜻한다.\n",
    "- F통계량 : 그룹 평균 간의 차이가 랜덤 모델에서 예상되는 것에서 벗어나는 정도를 측정하는 표준화된 통계량\n",
    "- SS(sum of squares) :  어떤 평균으로부터의 편차들의 제곱합"
   ]
  },
  {
   "cell_type": "code",
   "execution_count": 64,
   "id": "080b384c",
   "metadata": {},
   "outputs": [
    {
     "name": "stdout",
     "output_type": "stream",
     "text": [
      "     Page  Time\n",
      "0  Page 1   164\n",
      "1  Page 2   178\n",
      "2  Page 3   175\n",
      "3  Page 4   155\n",
      "4  Page 1   172\n"
     ]
    }
   ],
   "source": [
    "print(pd.read_csv(FOUR_SESSIONS_CSV).head())"
   ]
  },
  {
   "cell_type": "code",
   "execution_count": 62,
   "id": "095288a9",
   "metadata": {},
   "outputs": [
    {
     "data": {
      "image/png": "[encoded data removed]",
      "text/plain": [
       "<Figure size 288x288 with 1 Axes>"
      ]
     },
     "metadata": {
      "needs_background": "light"
     },
     "output_type": "display_data"
    }
   ],
   "source": [
    "four_sessions = pd.read_csv(FOUR_SESSIONS_CSV)\n",
    "\n",
    "ax = four_sessions.boxplot(by='Page', column='Time',\n",
    "                           figsize=(4, 4))\n",
    "ax.set_xlabel('Page')\n",
    "ax.set_ylabel('Time (in seconds)')\n",
    "plt.suptitle('')\n",
    "plt.title('')\n",
    "\n",
    "plt.tight_layout()\n",
    "plt.show()"
   ]
  },
  {
   "cell_type": "code",
   "execution_count": 65,
   "id": "2fd64742",
   "metadata": {},
   "outputs": [
    {
     "name": "stdout",
     "output_type": "stream",
     "text": [
      "Observed means: [172.8 182.6 175.6 164.6]\n",
      "Variance: 55.426666666666655\n",
      "42.52000000000005\n"
     ]
    }
   ],
   "source": [
    "observed_variance = four_sessions.groupby('Page').mean().var()[0]\n",
    "print('Observed means:', four_sessions.groupby('Page').mean().values.ravel())\n",
    "print('Variance:', observed_variance)\n",
    "# Permutation test example with stickiness\n",
    "def perm_test(df):\n",
    "    df = df.copy()\n",
    "    df['Time'] = np.random.permutation(df['Time'].values)\n",
    "    return df.groupby('Page').mean().var()[0]\n",
    "    \n",
    "print(perm_test(four_sessions))"
   ]
  },
  {
   "cell_type": "code",
   "execution_count": 66,
   "id": "40f6aa1e",
   "metadata": {},
   "outputs": [
    {
     "name": "stdout",
     "output_type": "stream",
     "text": [
      "Pr(Prob) 0.07833333333333334\n"
     ]
    },
    {
     "data": {
      "image/png": "[encoded data removed]",
      "text/plain": [
       "<Figure size 360x360 with 1 Axes>"
      ]
     },
     "metadata": {
      "needs_background": "light"
     },
     "output_type": "display_data"
    }
   ],
   "source": [
    "random.seed(1)\n",
    "perm_variance = [perm_test(four_sessions) for _ in range(3000)]\n",
    "\n",
    "#Pr 값이 바로 p값이다.\n",
    "print('Pr(Prob)', np.mean([var > observed_variance for var in perm_variance]))\n",
    "\n",
    "fig, ax = plt.subplots(figsize=(5, 5))\n",
    "ax.hist(perm_variance, bins=11, rwidth=0.9)\n",
    "ax.axvline(x = observed_variance, color='black', lw=2)\n",
    "ax.text(60, 200, 'Observed\\nvariance', bbox={'facecolor':'white'})\n",
    "ax.set_xlabel('Variance')\n",
    "ax.set_ylabel('Frequency')\n",
    "\n",
    "plt.tight_layout()\n",
    "plt.show()"
   ]
  },
  {
   "cell_type": "markdown",
   "id": "74c11270",
   "metadata": {},
   "source": [
    "- ANOVA(분산분석)는 여러 그룹의 실험 결과를 분석하기 위한 통계적 절차이다.\n",
    "- A/B 검정과 비슷한 절차를 확장하여 그룹 간 전체적인 편차가 우연히 발생할 수 있는 범위 내에 있는지를 평가하기 위해 사용된다.\n",
    "- ANOVA의 결과 중 유용한 점 중 하나는 그룹 처리, 상호작용 효고, 오차와 관련된 분산의 구성요소들을 구분하는데 있다."
   ]
  },
  {
   "cell_type": "markdown",
   "id": "eaddb639",
   "metadata": {},
   "source": [
    "### 카이제곱검정\n",
    "- 카이제곱검정은 횟수 관련 데이터에 주로 사용되며 예상되는 분포에 얼마나 잘 맞는지를 검정한다.\n",
    "- 카이제곱통계량: 기댓값으로부터 어던 관찰값까지의 거리를 나타내는 측정치\n",
    "- 기댓값 : 어떤 가정(보통 귀무가설)으로부터 데이터가 발생할 때, 그에 대해 기대하는 정도\n",
    "- 점근적 통계 이론은 카이제곱통계량의 분포가 카이제곱분포로 근사화될 수 있음을 보여준다.\n",
    "- 적절한 표준 카이제곱분포는 자유도에 의해 결정된다.\n",
    "- 분할표에서 자유도는 다음과 같이 행(r)과 열(c)의 수와 관련이 있다.\n",
    "- 자유도 = (r-1)(c-1)\n",
    "- 카이제곱분포는 일반적으로 한쪽으로 기울어져 있고, 오른쪽으로 긴꼬리가 있다."
   ]
  },
  {
   "cell_type": "code",
   "execution_count": 69,
   "id": "1dda0b69",
   "metadata": {},
   "outputs": [
    {
     "name": "stdout",
     "output_type": "stream",
     "text": [
      "Headline  Headline A  Headline B  Headline C\n",
      "Click                                       \n",
      "Click             14           8          12\n",
      "No-click         986         992         988\n"
     ]
    }
   ],
   "source": [
    "# Table 3-4\n",
    "click_rate = pd.read_csv(CLICK_RATE_CSV)\n",
    "clicks = click_rate.pivot(index='Click', columns='Headline', values='Rate')\n",
    "print(clicks)"
   ]
  },
  {
   "cell_type": "code",
   "execution_count": 70,
   "id": "2a0bf8f0",
   "metadata": {},
   "outputs": [
    {
     "data": {
      "text/html": [
       "<div>\n",
       "<style scoped>\n",
       "    .dataframe tbody tr th:only-of-type {\n",
       "        vertical-align: middle;\n",
       "    }\n",
       "\n",
       "    .dataframe tbody tr th {\n",
       "        vertical-align: top;\n",
       "    }\n",
       "\n",
       "    .dataframe thead th {\n",
       "        text-align: right;\n",
       "    }\n",
       "</style>\n",
       "<table border=\"1\" class=\"dataframe\">\n",
       "  <thead>\n",
       "    <tr style=\"text-align: right;\">\n",
       "      <th></th>\n",
       "      <th>Headline A</th>\n",
       "      <th>Headline B</th>\n",
       "      <th>Headline C</th>\n",
       "    </tr>\n",
       "    <tr>\n",
       "      <th>Click</th>\n",
       "      <th></th>\n",
       "      <th></th>\n",
       "      <th></th>\n",
       "    </tr>\n",
       "  </thead>\n",
       "  <tbody>\n",
       "    <tr>\n",
       "      <th>Click</th>\n",
       "      <td>11.333333</td>\n",
       "      <td>11.333333</td>\n",
       "      <td>11.333333</td>\n",
       "    </tr>\n",
       "    <tr>\n",
       "      <th>No-click</th>\n",
       "      <td>988.666667</td>\n",
       "      <td>988.666667</td>\n",
       "      <td>988.666667</td>\n",
       "    </tr>\n",
       "  </tbody>\n",
       "</table>\n",
       "</div>"
      ],
      "text/plain": [
       "          Headline A  Headline B  Headline C\n",
       "Click                                       \n",
       "Click      11.333333   11.333333   11.333333\n",
       "No-click  988.666667  988.666667  988.666667"
      ]
     },
     "execution_count": 70,
     "metadata": {},
     "output_type": "execute_result"
    }
   ],
   "source": [
    "# Table 3-5\n",
    "row_average = clicks.mean(axis=1)\n",
    "pd.DataFrame({\n",
    "    'Headline A': row_average,\n",
    "    'Headline B': row_average,\n",
    "    'Headline C': row_average,\n",
    "})"
   ]
  },
  {
   "cell_type": "code",
   "execution_count": 71,
   "id": "bac75f11",
   "metadata": {},
   "outputs": [
    {
     "name": "stdout",
     "output_type": "stream",
     "text": [
      "Observed chi2: 1.6659\n",
      "Resampled p-value: 0.4660\n"
     ]
    }
   ],
   "source": [
    "# Resampling approach\n",
    "box = [1] * 34\n",
    "box.extend([0] * 2966)\n",
    "random.shuffle(box)\n",
    "\n",
    "def chi2(observed, expected):\n",
    "    pearson_residuals = []\n",
    "    for row, expect in zip(observed, expected):\n",
    "        pearson_residuals.append([(observe - expect) ** 2 / expect\n",
    "                                  for observe in row])\n",
    "    # return sum of squares\n",
    "    return np.sum(pearson_residuals)\n",
    "\n",
    "expected_clicks = 34 / 3\n",
    "expected_noclicks = 1000 - expected_clicks\n",
    "expected = [expected_clicks, expected_noclicks]\n",
    "chi2observed = chi2(clicks.values, expected)\n",
    "\n",
    "def perm_fun(box):\n",
    "    random.shuffle(box)\n",
    "    sample_clicks = [sum(box[0:1000]),\n",
    "                     sum(box[1000:2000]),\n",
    "                     sum(box[2000:3000])]\n",
    "    sample_noclicks = [1000 - n for n in sample_clicks]\n",
    "    return chi2([sample_clicks, sample_noclicks], expected)\n",
    "\n",
    "perm_chi2 = [perm_fun(box) for _ in range(2000)]\n",
    "\n",
    "resampled_p_value = sum(perm_chi2 > chi2observed) / len(perm_chi2)\n",
    "print(f'Observed chi2: {chi2observed:.4f}')\n",
    "print(f'Resampled p-value: {resampled_p_value:.4f}')"
   ]
  },
  {
   "cell_type": "code",
   "execution_count": 72,
   "id": "c8ffb5c5",
   "metadata": {},
   "outputs": [
    {
     "name": "stdout",
     "output_type": "stream",
     "text": [
      "Observed chi2: 1.6659\n",
      "p-value: 0.4348\n"
     ]
    }
   ],
   "source": [
    "chisq, pvalue, df, expected = stats.chi2_contingency(clicks)\n",
    "print(f'Observed chi2: {chisq:.4f}')\n",
    "print(f'p-value: {pvalue:.4f}')"
   ]
  },
  {
   "cell_type": "code",
   "execution_count": 73,
   "id": "4a9c0acd",
   "metadata": {},
   "outputs": [
    {
     "name": "stdout",
     "output_type": "stream",
     "text": [
      "Observed chi2: 1.6659\n",
      "Resampled p-value: 0.4845\n"
     ]
    }
   ],
   "source": [
    "expected = [expected_clicks, expected_noclicks]\n",
    "def sample_with_replacement(box):\n",
    "    sample_clicks = [sum(random.sample(box, 1000)),\n",
    "                     sum(random.sample(box, 1000)),\n",
    "                     sum(random.sample(box, 1000))]\n",
    "    sample_noclicks = [1000 - n for n in sample_clicks]\n",
    "    return chi2([sample_clicks, sample_noclicks], expected)\n",
    "\n",
    "perm_chi2 = [sample_with_replacement(box) for _ in range(2000)]\n",
    "\n",
    "resampled_p_value = sum(perm_chi2 > chi2observed) / len(perm_chi2)\n",
    "print(f'Observed chi2: {chi2observed:.4f}')\n",
    "print(f'Resampled p-value: {resampled_p_value:.4f}')"
   ]
  },
  {
   "cell_type": "code",
   "execution_count": 75,
   "id": "2cf7b245",
   "metadata": {},
   "outputs": [
    {
     "data": {
      "image/png": "[encoded data removed]",
      "text/plain": [
       "<Figure size 288x180 with 1 Axes>"
      ]
     },
     "metadata": {
      "needs_background": "light"
     },
     "output_type": "display_data"
    }
   ],
   "source": [
    "# 다양한 자유도에 따른 카이제곱분포\n",
    "x = [1 + i * (30 - 1) / 99 for i in range(100)]\n",
    "\n",
    "chi = pd.DataFrame({\n",
    "    'x': x,\n",
    "    'chi_1': stats.chi2.pdf(x, df=1),\n",
    "    'chi_2': stats.chi2.pdf(x, df=2),\n",
    "    'chi_5': stats.chi2.pdf(x, df=5),\n",
    "    'chi_10': stats.chi2.pdf(x, df=10),\n",
    "    'chi_20': stats.chi2.pdf(x, df=20),\n",
    "})\n",
    "fig, ax = plt.subplots(figsize=(4, 2.5))\n",
    "ax.plot(chi.x, chi.chi_1, color='black', linestyle='-', label='1')\n",
    "ax.plot(chi.x, chi.chi_2, color='black', linestyle=(0, (1, 1)), label='2')\n",
    "ax.plot(chi.x, chi.chi_5, color='black', linestyle=(0, (2, 1)), label='5')\n",
    "ax.plot(chi.x, chi.chi_10, color='black', linestyle=(0, (3, 1)), label='10')\n",
    "ax.plot(chi.x, chi.chi_20, color='black', linestyle=(0, (4, 1)), label='20')\n",
    "ax.legend(title='df')\n",
    "\n",
    "plt.tight_layout()\n",
    "plt.show()"
   ]
  },
  {
   "cell_type": "markdown",
   "id": "e5a84771",
   "metadata": {},
   "source": [
    "### 멀티암드 밴딧 알고리즘\n",
    "- 멀티암드 밴딧 알고리즘은 전통적인 통계적 접근 방식보다 명시적인 최적화와 좀 더 빠른 의사 결정을 가능하게 하며, 특히 웹 테스트를 위해 사용된다.\n",
    "- 멀티암드 밴딧(MAB) : 고객이 선택할 수 있는 손잡이가 여러개인 가상의 슬롯머신을 말한다. 각 손잡이는 각기 다른 수익을 가져다준다. 다중 처리 실험에 대한 비유라고 생각할 수 있다.\n",
    "- 손잡이 : 실험에서 어떤 하나의 처리를 말한다.\n",
    "- 상금(수익,win) : 슬롯머신으로 딴 상금에 대한 실험적 비유(예 : 고객들의 링크 클릭수)\n",
    "- 전통적 A/B 검정은 임의표본추출 과정을 기본으로 하기 때문에, 수익이 낮은 것을 너무 많이 시도할 수 있다.\n",
    "- MAB는 실험 도중에 얻은 정보를 통합하고 수익이 낮은 것의 빈도를 줄이는 쪽으로 표본추출 과정을 변경한다.\n",
    "- 또한 두가지 이상의 처리를 효과적으로 다룰 수 있다.\n",
    "- 추출 확률을 수익이 낮은 처리에서 수익이 높으리라 추정되는 쪽으로 이동시키기 위한 다양한 알고리즘이 존재한다."
   ]
  }
 ],
 "metadata": {
  "kernelspec": {
   "display_name": "Python 3",
   "language": "python",
   "name": "python3"
  },
  "language_info": {
   "codemirror_mode": {
    "name": "ipython",
    "version": 3
   },
   "file_extension": ".py",
   "mimetype": "text/x-python",
   "name": "python",
   "nbconvert_exporter": "python",
   "pygments_lexer": "ipython3",
   "version": "3.8.8"
  }
 },
 "nbformat": 4,
 "nbformat_minor": 5
}
