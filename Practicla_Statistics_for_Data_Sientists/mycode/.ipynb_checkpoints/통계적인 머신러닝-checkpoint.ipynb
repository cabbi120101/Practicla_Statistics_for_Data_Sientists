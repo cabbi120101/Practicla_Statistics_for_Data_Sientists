{
 "cells": [
  {
   "cell_type": "markdown",
   "id": "091e3e7b",
   "metadata": {},
   "source": [
    "#### 세팅"
   ]
  },
  {
   "cell_type": "code",
   "execution_count": 2,
   "id": "28316053",
   "metadata": {},
   "outputs": [
    {
     "name": "stdout",
     "output_type": "stream",
     "text": [
      "\u001b[33mWARNING: Ignoring invalid distribution -p (/Users/dongwook/opt/anaconda3/lib/python3.8/site-packages)\u001b[0m\n",
      "\u001b[33mWARNING: Ignoring invalid distribution -ip (/Users/dongwook/opt/anaconda3/lib/python3.8/site-packages)\u001b[0m\n",
      "\u001b[33mWARNING: Ignoring invalid distribution - (/Users/dongwook/opt/anaconda3/lib/python3.8/site-packages)\u001b[0m\n",
      "\u001b[33mWARNING: Ignoring invalid distribution -p (/Users/dongwook/opt/anaconda3/lib/python3.8/site-packages)\u001b[0m\n",
      "\u001b[33mWARNING: Ignoring invalid distribution -ip (/Users/dongwook/opt/anaconda3/lib/python3.8/site-packages)\u001b[0m\n",
      "\u001b[33mWARNING: Ignoring invalid distribution - (/Users/dongwook/opt/anaconda3/lib/python3.8/site-packages)\u001b[0m\n",
      "Collecting xgboost\n",
      "  Downloading xgboost-2.0.2-py3-none-macosx_10_15_x86_64.macosx_11_0_x86_64.macosx_12_0_x86_64.whl (2.2 MB)\n",
      "\u001b[K     |████████████████████████████████| 2.2 MB 7.0 MB/s eta 0:00:01\n",
      "\u001b[?25hRequirement already satisfied: numpy in /Users/dongwook/opt/anaconda3/lib/python3.8/site-packages (from xgboost) (1.19.5)\n",
      "Requirement already satisfied: scipy in /Users/dongwook/opt/anaconda3/lib/python3.8/site-packages (from xgboost) (1.5.4)\n",
      "\u001b[33mWARNING: Ignoring invalid distribution -p (/Users/dongwook/opt/anaconda3/lib/python3.8/site-packages)\u001b[0m\n",
      "\u001b[33mWARNING: Ignoring invalid distribution -ip (/Users/dongwook/opt/anaconda3/lib/python3.8/site-packages)\u001b[0m\n",
      "\u001b[33mWARNING: Ignoring invalid distribution - (/Users/dongwook/opt/anaconda3/lib/python3.8/site-packages)\u001b[0m\n",
      "Installing collected packages: xgboost\n",
      "\u001b[33mWARNING: Ignoring invalid distribution -p (/Users/dongwook/opt/anaconda3/lib/python3.8/site-packages)\u001b[0m\n",
      "\u001b[33mWARNING: Ignoring invalid distribution -ip (/Users/dongwook/opt/anaconda3/lib/python3.8/site-packages)\u001b[0m\n",
      "\u001b[33mWARNING: Ignoring invalid distribution - (/Users/dongwook/opt/anaconda3/lib/python3.8/site-packages)\u001b[0m\n",
      "Successfully installed xgboost-2.0.2\n",
      "\u001b[33mWARNING: Ignoring invalid distribution -p (/Users/dongwook/opt/anaconda3/lib/python3.8/site-packages)\u001b[0m\n",
      "\u001b[33mWARNING: Ignoring invalid distribution -ip (/Users/dongwook/opt/anaconda3/lib/python3.8/site-packages)\u001b[0m\n",
      "\u001b[33mWARNING: Ignoring invalid distribution - (/Users/dongwook/opt/anaconda3/lib/python3.8/site-packages)\u001b[0m\n",
      "\u001b[33mWARNING: Ignoring invalid distribution -p (/Users/dongwook/opt/anaconda3/lib/python3.8/site-packages)\u001b[0m\n",
      "\u001b[33mWARNING: Ignoring invalid distribution -ip (/Users/dongwook/opt/anaconda3/lib/python3.8/site-packages)\u001b[0m\n",
      "\u001b[33mWARNING: Ignoring invalid distribution - (/Users/dongwook/opt/anaconda3/lib/python3.8/site-packages)\u001b[0m\n",
      "\u001b[33mWARNING: Ignoring invalid distribution -p (/Users/dongwook/opt/anaconda3/lib/python3.8/site-packages)\u001b[0m\n",
      "\u001b[33mWARNING: Ignoring invalid distribution -ip (/Users/dongwook/opt/anaconda3/lib/python3.8/site-packages)\u001b[0m\n",
      "\u001b[33mWARNING: Ignoring invalid distribution - (/Users/dongwook/opt/anaconda3/lib/python3.8/site-packages)\u001b[0m\n",
      "\u001b[33mWARNING: You are using pip version 21.2.4; however, version 23.3.1 is available.\n",
      "You should consider upgrading via the '/Users/dongwook/opt/anaconda3/bin/python -m pip install --upgrade pip' command.\u001b[0m\n",
      "Note: you may need to restart the kernel to use updated packages.\n"
     ]
    }
   ],
   "source": [
    "pip install xgboost"
   ]
  },
  {
   "cell_type": "code",
   "execution_count": 3,
   "id": "09dc2b86",
   "metadata": {},
   "outputs": [
    {
     "name": "stdout",
     "output_type": "stream",
     "text": [
      "no display found. Using non-interactive Agg backend\n"
     ]
    }
   ],
   "source": [
    "import math\n",
    "import os\n",
    "import random\n",
    "from pathlib import Path\n",
    "from collections import defaultdict\n",
    "from itertools import product\n",
    "\n",
    "\n",
    "import pandas as pd\n",
    "import numpy as np\n",
    "\n",
    "from sklearn import preprocessing\n",
    "from sklearn.neighbors import KNeighborsClassifier\n",
    "from sklearn import metrics\n",
    "from sklearn.model_selection import train_test_split\n",
    "from sklearn.tree import DecisionTreeClassifier\n",
    "from sklearn.ensemble import RandomForestClassifier\n",
    "\n",
    "from xgboost import XGBClassifier\n",
    "\n",
    "from dmba import plotDecisionTree, textDecisionTree\n",
    "\n",
    "import seaborn as sns\n",
    "import matplotlib.pyplot as plt\n",
    "from matplotlib.patches import Ellipse\n",
    "\n",
    "%matplotlib inline"
   ]
  },
  {
   "cell_type": "code",
   "execution_count": 4,
   "id": "77359c40",
   "metadata": {},
   "outputs": [],
   "source": [
    "try:\n",
    "    import common\n",
    "    DATA = common.dataDirectory()\n",
    "except ImportError:\n",
    "    DATA = Path().resolve() / 'data'"
   ]
  },
  {
   "cell_type": "code",
   "execution_count": 5,
   "id": "52bdaf7d",
   "metadata": {},
   "outputs": [],
   "source": [
    "LOAN200_CSV = DATA / 'loan200.csv'\n",
    "LOAN3000_CSV = DATA / 'loan3000.csv'\n",
    "LOAN_DATA_CSV = DATA / 'loan_data.csv.gz'"
   ]
  },
  {
   "cell_type": "code",
   "execution_count": 6,
   "id": "fde2910f",
   "metadata": {},
   "outputs": [],
   "source": [
    "# Set this if the notebook crashes in the XGBoost part.\n",
    "os.environ['KMP_DUPLICATE_LIB_OK'] = 'TRUE'"
   ]
  },
  {
   "cell_type": "markdown",
   "id": "8f31ce20",
   "metadata": {},
   "source": [
    "### k-최근접 이웃\n",
    "- 특징들이 가장 유사한 (즉, 예측변수들이 유사한) k개의 레코드를 찾는다.\n",
    "- 분류 : 이 유사한 레코드들 중에 다수가 속한 클래스가 무엇인지 찾은 후에 새로운 레코드를 그 클래스에 할당한다.\n",
    "- 예측(KNN회귀) : 유사한 레코드들의 평균을 찾아서 새로운 레코드에 대한 예측값으로 사용한다.\n",
    "\n",
    "- 이웃 : 예측변수에서 값들이 유사한 레코드\n",
    "- 거리 지표 : 각 레코드 사이가 얼마나 멀리 떨어져 있는지를 나타내를 단일 값\n",
    "- 표준화(standardization, 정규화) : 평균을 뺀 후에 표준편차로 나누는 일\n",
    "- z 점수 : 표준화를 통해 얻은 값\n",
    "- k : 최근접 이웃을 계산하는데 사용되는 이웃의 개수"
   ]
  },
  {
   "cell_type": "code",
   "execution_count": 7,
   "id": "76e30d0e",
   "metadata": {},
   "outputs": [
    {
     "name": "stdout",
     "output_type": "stream",
     "text": [
      "[[0.45 0.55]]\n"
     ]
    }
   ],
   "source": [
    "# 예제 : 대출 연체 예측\n",
    "# 새 잠재 대출의 결과를 예측하고자 한다.\n",
    "loan200 = pd.read_csv(LOAN200_CSV)\n",
    " \n",
    "predictors = ['payment_inc_ratio', 'dti']\n",
    "outcome = 'outcome'\n",
    "\n",
    "# 이진 결과를 알고 있는 200개의 대출만을 뽑아 만든 데이터 \n",
    "newloan = loan200.loc[0:0, predictors]\n",
    "X = loan200.loc[1:, predictors]\n",
    "y = loan200.loc[1:, outcome]\n",
    "\n",
    "knn = KNeighborsClassifier(n_neighbors=20)\n",
    "knn.fit(X, y)\n",
    "knn.predict(newloan)\n",
    "print(knn.predict_proba(newloan))"
   ]
  },
  {
   "cell_type": "code",
   "execution_count": 8,
   "id": "0468b62c",
   "metadata": {
    "scrolled": true
   },
   "outputs": [
    {
     "data": {
      "image/png": "[encoded data removed]",
      "text/plain": [
       "<Figure size 288x288 with 1 Axes>"
      ]
     },
     "metadata": {
      "needs_background": "light"
     },
     "output_type": "display_data"
    }
   ],
   "source": [
    "# 총 소득에 대한 부채 비율과 상환 비율을 이용한 KNN의 대출 연체 예측\n",
    "nbrs = knn.kneighbors(newloan)\n",
    "maxDistance = np.max(nbrs[0][0])\n",
    "\n",
    "fig, ax = plt.subplots(figsize=(4, 4))\n",
    "sns.scatterplot(x='payment_inc_ratio', y='dti', style='outcome', \n",
    "                hue='outcome', data=loan200, alpha=0.3, ax=ax)\n",
    "sns.scatterplot(x='payment_inc_ratio', y='dti', style='outcome', \n",
    "                hue='outcome', \n",
    "                data=pd.concat([loan200.loc[0:0, :], loan200.loc[nbrs[1][0] + 1,:]]), \n",
    "                ax=ax, legend=False)\n",
    "ellipse = Ellipse(xy=newloan.values[0], \n",
    "                  width=2 * maxDistance, height=2 * maxDistance,\n",
    "                  edgecolor='black', fc='None', lw=1)\n",
    "ax.add_patch(ellipse)\n",
    "ax.set_xlim(3, 16)\n",
    "ax.set_ylim(15, 30)\n",
    "\n",
    "plt.tight_layout()\n",
    "plt.show()"
   ]
  },
  {
   "cell_type": "markdown",
   "id": "19aa0816",
   "metadata": {},
   "source": [
    "거리 지표\n",
    "- 유사성similarity(근접성)은 거리 지표를 통해 결정된다."
   ]
  },
  {
   "cell_type": "markdown",
   "id": "3f507a83",
   "metadata": {},
   "source": [
    "원-핫 인코더\n",
    "- 이진 변수로 변환하는 것이다."
   ]
  },
  {
   "cell_type": "code",
   "execution_count": 12,
   "id": "646d409f",
   "metadata": {},
   "outputs": [
    {
     "name": "stdout",
     "output_type": "stream",
     "text": [
      "   payment_inc_ratio  dti  revol_bal  revol_util\n",
      "0             2.3932  1.0       1687         9.4\n",
      "       payment_inc_ratio   dti  revol_bal  revol_util\n",
      "35536            1.47212  1.46       1686        10.0\n",
      "33651            3.38178  6.37       1688         8.4\n",
      "25863            2.36303  1.39       1691         3.5\n",
      "42953            1.28160  7.14       1684         3.9\n",
      "43599            4.12244  8.98       1684         7.2\n"
     ]
    }
   ],
   "source": [
    "# 표준화(정규화, z점수)\n",
    "# 표준화 혹은 정규화란, 모든 변수에서 평균을 빼고 표준편차로 나누는 과정을 통해 변수들을 모두 비슷한 스케일에 놓는다.\n",
    "# 이러한 방식으로, 실제 측정된 값의 스케일 때문에 모델에 심한 영향을 주는 것을 막을 수 있다.\n",
    "# 이 결과를 일반적으로 z 점수라고 부른다.\n",
    "loan_data = pd.read_csv(LOAN_DATA_CSV)\n",
    "loan_data = loan_data.drop(columns=['Unnamed: 0', 'status'])\n",
    "loan_data['outcome'] = pd.Categorical(loan_data['outcome'], \n",
    "                                      categories=['paid off', 'default'], \n",
    "                                      ordered=True)\n",
    "\n",
    "\n",
    "predictors = ['payment_inc_ratio', 'dti', 'revol_bal', 'revol_util']\n",
    "outcome = 'outcome'\n",
    "\n",
    "newloan = loan_data.loc[0:0, predictors]\n",
    "print(newloan)\n",
    "X = loan_data.loc[1:, predictors]\n",
    "y = loan_data.loc[1:, outcome]\n",
    "\n",
    "knn = KNeighborsClassifier(n_neighbors=5)\n",
    "knn.fit(X, y)\n",
    "\n",
    "nbrs = knn.kneighbors(newloan)\n",
    "print(X.iloc[nbrs[1][0], :])"
   ]
  },
  {
   "cell_type": "code",
   "execution_count": 13,
   "id": "028f83e0",
   "metadata": {},
   "outputs": [
    {
     "name": "stdout",
     "output_type": "stream",
     "text": [
      "       payment_inc_ratio   dti  revol_bal  revol_util\n",
      "2080             2.61091  1.03       1218         9.7\n",
      "1438             2.34343  0.51        278         9.9\n",
      "30215            2.71200  1.34       1075         8.5\n",
      "28542            2.39760  0.74       2917         7.4\n",
      "44737            2.34309  1.37        488         7.2\n"
     ]
    }
   ],
   "source": [
    "newloan = loan_data.loc[0:0, predictors]\n",
    "X = loan_data.loc[1:, predictors]\n",
    "y = loan_data.loc[1:, outcome]\n",
    "\n",
    "scaler = preprocessing.StandardScaler()\n",
    "scaler.fit(X * 1.0)\n",
    "\n",
    "X_std = scaler.transform(X * 1.0)\n",
    "newloan_std = scaler.transform(newloan * 1.0)\n",
    "\n",
    "knn = KNeighborsClassifier(n_neighbors=5)\n",
    "knn.fit(X_std, y)\n",
    "\n",
    "nbrs = knn.kneighbors(newloan_std)\n",
    "print(X.iloc[nbrs[1][0], :])"
   ]
  },
  {
   "cell_type": "markdown",
   "id": "08c650c0",
   "metadata": {},
   "source": [
    "- z 점수는 변수를 변환하는 여러 방법중 한 가지일 뿐이다.\n",
    "- 평균 대신에 중간값과 같은 좀 더 로버스트한 위치 추정값을 사용할 수도 있다."
   ]
  },
  {
   "cell_type": "markdown",
   "id": "0959b5c5",
   "metadata": {},
   "source": [
    "KNN을 통한 피처 엔지니어링\n",
    "- KNN은 데이터에 기반하여 분류 결과를 얻는다.\n",
    "- 이결과는 해당 레코드에 새로운 피처(특징)으로 추가된다.\n",
    "- 이 결과를 다른 분류 방법에 사용한다. 원래의 예측변수들을 두번씩 사용하는 셈이다.\n",
    "- 이 방법으로 다중공선성 같은 문제를 야기하지 않을까 싶지만 지엽적인 정보이기 때문에 문제되지 않는다. \n",
    "- 따라서 새로 얻은 정보는 불필요하거나 중복성이 있지 않다."
   ]
  },
  {
   "cell_type": "markdown",
   "id": "71d61ff8",
   "metadata": {},
   "source": [
    "- KNN 방법이란 유사한 레코드들이 속한 클래스로 레코드를 분류하는 방법이다.\n",
    "- 유서성(거리)은 유클리드 거리나 다른 관련 지표들을 이용해 결정한다.\n",
    "- 가장 가까운 이웃 데이터의 개수를 의미하는 k는 학습 데이터에서 얼마나 좋은 성능을 보이는지를 가지고 결정한다.\n",
    "- 일반적으로 예측변수들을 표준화한다. 이를 통해 스케일이 큰 변수들의 영향력이 너무 커지지 않도록 한다.\n",
    "- 예측 모델링의 첫 단계에서 종종 KNN을 사용한다. 이렇게 얻은 값을 다시 데이터에 하나의 예측변수로 추가해서 두번째 단계의 KNN이 아닌 모델링을 위해 사용한다."
   ]
  },
  {
   "cell_type": "markdown",
   "id": "ae1cdd71",
   "metadata": {},
   "source": [
    "### 트리 모델\n",
    "- 재귀 분할 : 마지막 분할 영역에 해당하는 출력이 최대한 비슷한(homogeneous) 결과를 보이도록 데이터를 반복적으로 분할하는 것\n",
    "- 분할값(split value) : 분할값을 기준으로 예측변수를 그 값보다 작은 영역과 큰 영역으로 나눈다.\n",
    "- 마디(노드 node) : 의사 결정 트리와 같은 가지치기 형태로 구성된 규칙들의 집합에서, 노드는 분할 규칙의 시각적인 표시라고 할 수 있다.\n",
    "- 잎(leaf) : if-then 규칙의 가장 마지막 부분, 혹은 트리의 마지막 가지(branch) 부분을 의미한다. 트리 모델에서 잎 노드는 어떤 레코드에 적용할 최종적인 분류 규칙을 의미한다.\n",
    "- 손실(loss) : 분류하는 과정에서 발생하는 오분류의 수. 손실이 클수록 불순도가 높다고 할 ㅜㅅ 있다.\n",
    "- 불순도(impurity, 이질성,반의어 : 동질성homogeneity,순도) : 데이터를 분할한 집합에서 서로 다른 클래스의 데이터가 얼마나 섞여 있는지를 나타낸다. 더 많이 섞여 있을수록 불순도가 높다고 할 수 있다.\n",
    "- 가지치기(pruning) : 학습이 끝난 트리 모델에서 오버피팅을 줄이기 위해 가지들을 하나씩 잘라내는 과정\n",
    "- 트리모델이란 쉽게 말해 if-then-else 규칙의 집합체라고 할 수 있다. 따라서 이해하기도 쉽고 구현하기 쉽다.\n",
    "- 트리가 커질수록 분할 규칙들은 세분화되고, 실제 믿을 만한 관계들을 확인하는 '큰'규칙을 만드는 단계에서 노이즈까지 반영하는 '아주 작은' 규칙을 만드는 단계로 점점 변화한다.\n",
    "- 의사결정 트리는 결과를 분류하거나 예측하기 위한 일련의 규칙들을 생성한다.\n",
    "- 이 규칙들은 데이터를 하위 영역으로 연속적으로 분할하는 것과 관련이 있다.\n",
    "- 각 분할 혹은 분기는 어떤 한 예측변수 값을 기준으로 데이터를 위아래 두 부분으로 나누는 것이다.\n",
    "- 각 단계마다, 트리 알고리즘은 결과의 불순도를 최소화하는 쪽으로 영역 분할을 진행한다.\n",
    "- 더 이상 분할이 불가능할 때, 트리가 완전히 자랐다고 볼 수 있으며 각 말단 노드 혹은 잎 노드에 해당하는 레코드들은 단일 클래스에 속한다. 새로운 데이터는 이규칙 경로를 따라 해당 클래스로 할당 된다.\n",
    "- 완전히 자란 트리는 데이터를 오버피팅하기 때문에, 노이즈를 제외한 신호에만 반응하도록 트리에 가지치기를 수행해야한다.\n",
    "- 랜덤 포레스트나 부스팅 트리 같은 다중 트리 알고리즘은 우수한 예측 성능을 보장한다. 하지만 규칙에 기반을 둔 단일 트리 방법의 장점이라고 할 수 있는 전달 능력은 잃어버린다."
   ]
  },
  {
   "cell_type": "markdown",
   "id": "1fde19f0",
   "metadata": {},
   "source": [
    "### 배깅과 랜덤 포레스트\n",
    "- 앙상블(모델 평균화) : 여러 모델의 집합을 이용해서 하나의 예측을 이끌어내는 방식\n",
    "- 배깅(부트스트랩 종합 bootstrap aggregation) : 데이터를 부트스트래핑해서 여러 모델을 만드는 일반적인 방법\n",
    "- 랜덤 포레스트(배깅 의사 결정 트리) : 의사 결정 트리 모델에 기반을 둔 배깅 추정 모델\n",
    "- 변수 중요도 : 모델 성능에 미치는 예측 변수의 중요도\n",
    "- 랜덤 포레스트는 의사 결정 트리 모델에 한 가지 중요한 요소가 추가된 배깅 방법을 적용한 모델이다.\n",
    "- 레코드를 표본추출할 때, 변수 역시 샘플링하는 것이다.\n",
    "- 랜덤 포레스트에서는 알고리즘의 각 단계마다, 고를 수 있는 변수가 랜덤하게 결정된 전체 변수들의 부분집합에 한정된다.\n",
    "- 랜덤 포레스트는 일종의 '블랙박스' 모델이다.\n",
    "- 단순한 단일 트리보다 훨씬 정학한 예측 성능을 보이지만 간단한 트리를 통해 얻을 수 있는 직관적인 해석은 불가능하다."
   ]
  },
  {
   "cell_type": "code",
   "execution_count": null,
   "id": "249ab450",
   "metadata": {},
   "outputs": [],
   "source": []
  }
 ],
 "metadata": {
  "kernelspec": {
   "display_name": "Python 3",
   "language": "python",
   "name": "python3"
  },
  "language_info": {
   "codemirror_mode": {
    "name": "ipython",
    "version": 3
   },
   "file_extension": ".py",
   "mimetype": "text/x-python",
   "name": "python",
   "nbconvert_exporter": "python",
   "pygments_lexer": "ipython3",
   "version": "3.8.8"
  }
 },
 "nbformat": 4,
 "nbformat_minor": 5
}
